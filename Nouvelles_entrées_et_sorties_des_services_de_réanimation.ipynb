{
  "nbformat": 4,
  "nbformat_minor": 0,
  "metadata": {
    "colab": {
      "name": "Nouvelles entrées et sorties des services de réanimation ",
      "provenance": [],
      "collapsed_sections": [],
      "include_colab_link": true
    },
    "kernelspec": {
      "name": "python3",
      "display_name": "Python 3"
    }
  },
  "cells": [
    {
      "cell_type": "markdown",
      "metadata": {
        "id": "view-in-github",
        "colab_type": "text"
      },
      "source": [
        "<a href=\"https://colab.research.google.com/github/AntoineLgx/training-datamining-mds/blob/master/Nouvelles_entr%C3%A9es_et_sorties_des_services_de_r%C3%A9animation.ipynb\" target=\"_parent\"><img src=\"https://colab.research.google.com/assets/colab-badge.svg\" alt=\"Open In Colab\"/></a>"
      ]
    },
    {
      "cell_type": "markdown",
      "metadata": {
        "id": "52pde5EhVGqT",
        "colab_type": "text"
      },
      "source": [
        "Issue suivie : https://github.com/CashStory/training-datamining-mds/issues/2\n",
        "\n",
        "Pitch : https://drive.google.com/file/d/1Mx7pEeH_3puzkDyicvRJ5opgiI3wZJ-d/view\n",
        "\n"
      ]
    },
    {
      "cell_type": "markdown",
      "metadata": {
        "id": "7FA-8pmOVjKO",
        "colab_type": "text"
      },
      "source": [
        "*** Imports :**"
      ]
    },
    {
      "cell_type": "code",
      "metadata": {
        "id": "jagZiGoqVn1o",
        "colab_type": "code",
        "colab": {}
      },
      "source": [
        "import requests\n",
        "import pandas as pd\n",
        "from datetime import datetime, timedelta\n",
        "import plotly.graph_objects as go\n",
        "from plotly.subplots import make_subplots"
      ],
      "execution_count": 0,
      "outputs": []
    },
    {
      "cell_type": "markdown",
      "metadata": {
        "id": "JzlBOp_MVrlA",
        "colab_type": "text"
      },
      "source": [
        "*** Variables :**"
      ]
    },
    {
      "cell_type": "code",
      "metadata": {
        "id": "w7sZu-QjV8QU",
        "colab_type": "code",
        "colab": {}
      },
      "source": [
        "# URLs\n",
        "BASE_URL_ENTREE = 'https://geodes.santepubliquefrance.fr/GC_indic.php?lang=fr&prodhash=3c0e7522&indic=incid_rea&dataset=covid_hospit_incid&view=map2&filters=jour='\n",
        "BASE_URL_TOTAL = 'https://geodes.santepubliquefrance.fr/GC_indic.php?lang=fr&prodhash=3c0e7522&indic=rea&dataset=covid_hospit&view=map2&filters=sexe=0,jour='\n",
        "\n",
        "# Liste des départements\n",
        "DEPARTMENTS = ['Ain', 'Aisne', 'Allier', 'Alpes-de-Haute-Provence', 'Hautes-Alpes', 'Alpes-Maritimes', 'Ardèche', 'Ardennes', 'Ariège', 'Aube', 'Aude', 'Aveyron',\n",
        "               'Bouches-du-Rhône', 'Calvados', 'Cantal', 'Charente', 'Charente-Maritime', 'Cher', 'Corrèze', 'Côte-d\\'Or', 'Côtes-d\\'Armor', 'Creuse', 'Dordogne',\n",
        "               'Doubs', 'Drôme', 'Eure', 'Eure-et-Loir', 'Finistère', 'Corse-du-Sud', 'Haute-Corse', 'Gard','Haute-Garonne','Gers','Gironde','Hérault',\n",
        "               'Ille-et-Vilaine','Indre','Indre-et-Loire','Isère','Jura','Landes','Loir-et-Cher','Loire','Haute-Loire','Loire-Atlantique','Loiret','Lot',\n",
        "               'Lot-et-Garonne','Lozère','Maine-et-Loire','Manche','Marne','Haute-Marne','Mayenne','Meurthe-et-Moselle','Meuse','Morbihan','Moselle','Nièvre',\n",
        "               'Nord','Oise','Orne','Pas-de-Calais','Puy-de-Dôme','Pyrénées-Atlantiques','Hautes-Pyrénées','Pyrénées-Orientales','Bas-Rhin','Haut-Rhin','Rhône',\n",
        "               'Haute-Saône','Saône-et-Loire','Sarthe','Savoie','Haute-Savoie','Paris','Seine-Maritime','Seine-et-Marne','Yvelines','Deux-Sèvres','Somme','Tarn',\n",
        "               'Tarn-et-Garonne','Var','Vaucluse','Vendée','Vienne','Haute-Vienne','Vosges','Yonne','Territoire de Belfort','Essonne','Hauts-de-Seine',\n",
        "               'Seine-Saint-Denis','Val-de-Marne','Val-d\\'Oise','Guadeloupe','Martinique','Guyane','La Réunion','Mayotte', 'France Entière']\n",
        "\n",
        "# Nombre de jours\n",
        "LISSAGE_JOURS = 30\n",
        "\n",
        "# Pour contenir les x derniers jours, x étant la variable \"LISSAGE_JOURS\"\n",
        "DATES = []\n",
        "\n",
        "# Les indices contiennent x tableaux ordonnés en fonction de \"DATES\" contenant les données des départements ordonné comme \"DEPARTEMENTS\"\n",
        "INDICES_TEMP_ENTREES = []\n",
        "INDICES_TEMP_REANIMATION = []\n",
        "INDICES_TEMP_COURANT = []\n",
        "INDICES_ENTREES = []\n",
        "INDICES_COURANT = []\n",
        "INDICES_SORTIES = []"
      ],
      "execution_count": 0,
      "outputs": []
    },
    {
      "cell_type": "markdown",
      "metadata": {
        "id": "gsFJOu37Wtnu",
        "colab_type": "text"
      },
      "source": [
        "*** Récupération des données :**"
      ]
    },
    {
      "cell_type": "code",
      "metadata": {
        "id": "EZRSZeNdCr4F",
        "colab_type": "code",
        "colab": {}
      },
      "source": [
        "for i in range(LISSAGE_JOURS + 1):\n",
        "\n",
        "  # Génération des dates\n",
        "  DAY = (datetime.today() - timedelta(days = (LISSAGE_JOURS - i))).isoformat().split(\"T\")[0]\n",
        "  DATES.append(DAY)\n",
        "\n",
        "  # Récupération des entrées en réanimation\n",
        "  URL = (BASE_URL_ENTREE + DAY)\n",
        "  RESPONSE = requests.get(URL)\n",
        "  JSON = RESPONSE.json()\n",
        "  INDICES_TEMP_ENTREES.append(JSON['content']['distribution']['values'])\n",
        "  TOTAL_ENTREES = 0\n",
        "  for value in JSON['content']['distribution']['values']:\n",
        "    TOTAL_ENTREES += value\n",
        "    INDICES_ENTREES.append(value)\n",
        "  INDICES_ENTREES.append(TOTAL_ENTREES)\n",
        "  \n",
        "  # Récupération des personnes actuellement en réanimation\n",
        "  URL = (BASE_URL_TOTAL + DAY)\n",
        "  RESPONSE = requests.get(URL)\n",
        "  JSON = RESPONSE.json()\n",
        "  INDICES_TEMP_REANIMATION.append(JSON['content']['distribution']['values'])"
      ],
      "execution_count": 0,
      "outputs": []
    },
    {
      "cell_type": "markdown",
      "metadata": {
        "id": "ykWaVK_Wdm2N",
        "colab_type": "text"
      },
      "source": [
        "*** Calcul des données :**"
      ]
    },
    {
      "cell_type": "code",
      "metadata": {
        "id": "ySTHWg1Nd0X-",
        "colab_type": "code",
        "colab": {}
      },
      "source": [
        "for i in range(1, LISSAGE_JOURS + 1):\n",
        "  TOTAL_SORTIES = 0\n",
        "  for j in range(len(DEPARTMENTS) - 1):\n",
        "    INDICES_TEMP_COURANT.append([])\n",
        "    INDICES_TEMP_COURANT[i-1].append(INDICES_TEMP_REANIMATION[i][j] - INDICES_TEMP_REANIMATION[i - 1][j])\n",
        "    TOTAL_SORTIES += INDICES_TEMP_ENTREES[i][j] - INDICES_TEMP_COURANT[i - 1][j]\n",
        "    INDICES_SORTIES.append(INDICES_TEMP_ENTREES[i][j] - INDICES_TEMP_COURANT[i - 1][j])\n",
        "  INDICES_SORTIES.append(TOTAL_SORTIES)\n",
        "\n",
        "INDICES_ENTREES = INDICES_ENTREES[len(DEPARTMENTS) : len(INDICES_ENTREES)]\n",
        "DATES.pop(0)\n",
        "\n",
        "for value in INDICES_TEMP_COURANT:\n",
        "  TOTAL_COURANT = 0\n",
        "  for v in value:\n",
        "    TOTAL_COURANT += v\n",
        "    INDICES_COURANT.append(v)\n",
        "  INDICES_COURANT.append(TOTAL_COURANT)"
      ],
      "execution_count": 0,
      "outputs": []
    },
    {
      "cell_type": "markdown",
      "metadata": {
        "id": "IvNnTo8Eg24W",
        "colab_type": "text"
      },
      "source": [
        "*** Mise en forme des données :**"
      ]
    },
    {
      "cell_type": "code",
      "metadata": {
        "id": "kNM5uuaSg4Jn",
        "colab_type": "code",
        "outputId": "f61c71eb-1ae8-4c10-f5bc-d03d6ec8c2d6",
        "colab": {
          "base_uri": "https://localhost:8080/",
          "height": 450
        }
      },
      "source": [
        "iterables  = []\n",
        "iterables.append(DATES)\n",
        "iterables.append(DEPARTMENTS)\n",
        "idx = pd.MultiIndex.from_product(iterables, names=['DATE', 'ZONE'])\n",
        "\n",
        "datas = []\n",
        "for i in range(len(iterables[1]) * len(iterables[0])) :\n",
        "  datas.append(np.array([INDICES_ENTREES[i], INDICES_SORTIES[i],INDICES_COURANT[i], datetime.today()]))\n",
        "\n",
        "df = pd.DataFrame(datas, index=idx, columns=['ENTREES', 'SORTIES', 'SOLDES', 'LAST UPDATE'])\n",
        "df"
      ],
      "execution_count": 0,
      "outputs": [
        {
          "output_type": "execute_result",
          "data": {
            "text/html": [
              "<div>\n",
              "<style scoped>\n",
              "    .dataframe tbody tr th:only-of-type {\n",
              "        vertical-align: middle;\n",
              "    }\n",
              "\n",
              "    .dataframe tbody tr th {\n",
              "        vertical-align: top;\n",
              "    }\n",
              "\n",
              "    .dataframe thead th {\n",
              "        text-align: right;\n",
              "    }\n",
              "</style>\n",
              "<table border=\"1\" class=\"dataframe\">\n",
              "  <thead>\n",
              "    <tr style=\"text-align: right;\">\n",
              "      <th></th>\n",
              "      <th></th>\n",
              "      <th>ENTREES</th>\n",
              "      <th>SORTIES</th>\n",
              "      <th>SOLDES</th>\n",
              "      <th>LAST UPDATE</th>\n",
              "    </tr>\n",
              "    <tr>\n",
              "      <th>DATE</th>\n",
              "      <th>ZONE</th>\n",
              "      <th></th>\n",
              "      <th></th>\n",
              "      <th></th>\n",
              "      <th></th>\n",
              "    </tr>\n",
              "  </thead>\n",
              "  <tbody>\n",
              "    <tr>\n",
              "      <th rowspan=\"5\" valign=\"top\">2020-03-24</th>\n",
              "      <th>Ain</th>\n",
              "      <td>1</td>\n",
              "      <td>1</td>\n",
              "      <td>0</td>\n",
              "      <td>2020-04-22 08:48:13.867062</td>\n",
              "    </tr>\n",
              "    <tr>\n",
              "      <th>Aisne</th>\n",
              "      <td>4</td>\n",
              "      <td>0</td>\n",
              "      <td>4</td>\n",
              "      <td>2020-04-22 08:48:13.867090</td>\n",
              "    </tr>\n",
              "    <tr>\n",
              "      <th>Allier</th>\n",
              "      <td>0</td>\n",
              "      <td>0</td>\n",
              "      <td>0</td>\n",
              "      <td>2020-04-22 08:48:13.867100</td>\n",
              "    </tr>\n",
              "    <tr>\n",
              "      <th>Alpes-de-Haute-Provence</th>\n",
              "      <td>0</td>\n",
              "      <td>0</td>\n",
              "      <td>0</td>\n",
              "      <td>2020-04-22 08:48:13.867108</td>\n",
              "    </tr>\n",
              "    <tr>\n",
              "      <th>Hautes-Alpes</th>\n",
              "      <td>1</td>\n",
              "      <td>0</td>\n",
              "      <td>1</td>\n",
              "      <td>2020-04-22 08:48:13.867115</td>\n",
              "    </tr>\n",
              "    <tr>\n",
              "      <th>...</th>\n",
              "      <th>...</th>\n",
              "      <td>...</td>\n",
              "      <td>...</td>\n",
              "      <td>...</td>\n",
              "      <td>...</td>\n",
              "    </tr>\n",
              "    <tr>\n",
              "      <th rowspan=\"5\" valign=\"top\">2020-04-22</th>\n",
              "      <th>Martinique</th>\n",
              "      <td>0</td>\n",
              "      <td>0</td>\n",
              "      <td>0</td>\n",
              "      <td>2020-04-22 08:48:13.880946</td>\n",
              "    </tr>\n",
              "    <tr>\n",
              "      <th>Guyane</th>\n",
              "      <td>0</td>\n",
              "      <td>0</td>\n",
              "      <td>0</td>\n",
              "      <td>2020-04-22 08:48:13.880950</td>\n",
              "    </tr>\n",
              "    <tr>\n",
              "      <th>La Réunion</th>\n",
              "      <td>0</td>\n",
              "      <td>0</td>\n",
              "      <td>0</td>\n",
              "      <td>2020-04-22 08:48:13.880954</td>\n",
              "    </tr>\n",
              "    <tr>\n",
              "      <th>Mayotte</th>\n",
              "      <td>0</td>\n",
              "      <td>0</td>\n",
              "      <td>0</td>\n",
              "      <td>2020-04-22 08:48:13.880958</td>\n",
              "    </tr>\n",
              "    <tr>\n",
              "      <th>France Entière</th>\n",
              "      <td>190</td>\n",
              "      <td>190</td>\n",
              "      <td>0</td>\n",
              "      <td>2020-04-22 08:48:13.880961</td>\n",
              "    </tr>\n",
              "  </tbody>\n",
              "</table>\n",
              "<p>3060 rows × 4 columns</p>\n",
              "</div>"
            ],
            "text/plain": [
              "                                    ENTREES  ...                LAST UPDATE\n",
              "DATE       ZONE                              ...                           \n",
              "2020-03-24 Ain                            1  ... 2020-04-22 08:48:13.867062\n",
              "           Aisne                          4  ... 2020-04-22 08:48:13.867090\n",
              "           Allier                         0  ... 2020-04-22 08:48:13.867100\n",
              "           Alpes-de-Haute-Provence        0  ... 2020-04-22 08:48:13.867108\n",
              "           Hautes-Alpes                   1  ... 2020-04-22 08:48:13.867115\n",
              "...                                     ...  ...                        ...\n",
              "2020-04-22 Martinique                     0  ... 2020-04-22 08:48:13.880946\n",
              "           Guyane                         0  ... 2020-04-22 08:48:13.880950\n",
              "           La Réunion                     0  ... 2020-04-22 08:48:13.880954\n",
              "           Mayotte                        0  ... 2020-04-22 08:48:13.880958\n",
              "           France Entière               190  ... 2020-04-22 08:48:13.880961\n",
              "\n",
              "[3060 rows x 4 columns]"
            ]
          },
          "metadata": {
            "tags": []
          },
          "execution_count": 42
        }
      ]
    },
    {
      "cell_type": "markdown",
      "metadata": {
        "id": "w0BBkRBtpLzw",
        "colab_type": "text"
      },
      "source": [
        "*** Plotting :**"
      ]
    },
    {
      "cell_type": "code",
      "metadata": {
        "id": "0CH_4xlPpShW",
        "colab_type": "code",
        "outputId": "04410df8-e583-4594-8451-6534aadaab4f",
        "colab": {
          "base_uri": "https://localhost:8080/",
          "height": 417
        }
      },
      "source": [
        "# Prépare la figure pour deux graphes\n",
        "fig = make_subplots(rows=2, cols=1)\n",
        "#fig = go.Figure()\n",
        "\n",
        "# Application d'un filtre pour le graphe\n",
        "# df = df.filter(like='France Entière', axis=0)\n",
        "\n",
        "# Création des éléments du dropdown pour appliquer les filtres\n",
        "buttons = []\n",
        "buttons.append(dict(method='restyle', label=\"Entire France\",\n",
        "                      args=[{'y':[df.filter(like=\"France Entière\", axis=0).ENTREES, df.filter(like=\"France Entière\", axis=0).SORTIES, df.filter(like=\"France Entière\", axis=0).SOLDES]}]))\n",
        "for i in range(len(DEPARTMENTS) - 1):\n",
        "  dep = DEPARTMENTS[i]\n",
        "  buttons.append(dict(method='restyle', label=dep,\n",
        "                      args=[{'y':[df.filter(like=dep, axis=0).ENTREES, df.filter(like=dep, axis=0).SORTIES, df.filter(like=dep, axis=0).SOLDES]}]))\n",
        "\n",
        "# Affichage des lignes dans le graphe\n",
        "fig.add_trace(go.Scatter(x=df.filter(like='France Entière', axis=0).index.get_level_values('DATE'), y=df.filter(like='France Entière', axis=0).ENTREES, fill='tozeroy',name=\"Admissions\",line=dict(width=0.5,color=\"rgb(160,0,0)\"),line_shape='spline'), row = 1, col = 1)\n",
        "fig.add_trace(go.Scatter(x=df.filter(like='France Entière', axis=0).index.get_level_values('DATE'), y=df.filter(like='France Entière', axis=0).SORTIES, fill='tozeroy',name=\"Releases\",line=dict(width=0.5,color=\"rgb(0,160,0)\"),line_shape='spline'), row = 1, col = 1)\n",
        "fig.add_trace(go.Scatter(x=df.filter(like='France Entière', axis=0).index.get_level_values('DATE'), y=df.filter(like='France Entière', axis=0).SOLDES, fill='tozeroy',name=\"Balance\",line=dict(width=0.5,color=\"rgb(0,0,160)\"),line_shape='spline'), row = 2, col = 1)\n",
        "\n",
        "# Redimensionnement et couleur de fond du graphe\n",
        "fig.update_layout(width=1400, height=400, plot_bgcolor='rgb(255,255,255)', title_text=\"Admissions, releases and balance for COVID-19 reanimation services in France (last update : \" + str(df['LAST UPDATE'][0]) + \")\")\n",
        "\n",
        "# Mise en place du dropdown\n",
        "fig.update_layout(updatemenus=[dict(buttons=buttons, direction=\"down\", pad={\"r\": 1, \"t\": 1}, showactive=True, x=0.05, xanchor=\"left\", y=1.22, yanchor=\"top\")])\n",
        "\n",
        "fig.update_layout(annotations=[dict(text=\"Zone\", x=0, xref=\"paper\", y=1.18, yref=\"paper\", align=\"left\", showarrow=False)])\n",
        "\n",
        "# Affichage du graphe\n",
        "fig.show()\n",
        "#df"
      ],
      "execution_count": 0,
      "outputs": [
        {
          "output_type": "display_data",
          "data": {
            "text/html": [
              "<html>\n",
              "<head><meta charset=\"utf-8\" /></head>\n",
              "<body>\n",
              "    <div>\n",
              "            <script src=\"https://cdnjs.cloudflare.com/ajax/libs/mathjax/2.7.5/MathJax.js?config=TeX-AMS-MML_SVG\"></script><script type=\"text/javascript\">if (window.MathJax) {MathJax.Hub.Config({SVG: {font: \"STIX-Web\"}});}</script>\n",
              "                <script type=\"text/javascript\">window.PlotlyConfig = {MathJaxConfig: 'local'};</script>\n",
              "        <script src=\"https://cdn.plot.ly/plotly-latest.min.js\"></script>    \n",
              "            <div id=\"cdadd13d-8ca9-44bd-88e0-7987745850b4\" class=\"plotly-graph-div\" style=\"height:400px; width:1400px;\"></div>\n",
              "            <script type=\"text/javascript\">\n",
              "                \n",
              "                    window.PLOTLYENV=window.PLOTLYENV || {};\n",
              "                    \n",
              "                if (document.getElementById(\"cdadd13d-8ca9-44bd-88e0-7987745850b4\")) {\n",
              "                    Plotly.newPlot(\n",
              "                        'cdadd13d-8ca9-44bd-88e0-7987745850b4',\n",
              "                        [{\"fill\": \"tozeroy\", \"line\": {\"color\": \"rgb(160,0,0)\", \"shape\": \"spline\", \"width\": 0.5}, \"name\": \"Admissions\", \"type\": \"scatter\", \"x\": [\"2020-03-24\", \"2020-03-25\", \"2020-03-26\", \"2020-03-27\", \"2020-03-28\", \"2020-03-29\", \"2020-03-30\", \"2020-03-31\", \"2020-04-01\", \"2020-04-02\", \"2020-04-03\", \"2020-04-04\", \"2020-04-05\", \"2020-04-06\", \"2020-04-07\", \"2020-04-08\", \"2020-04-09\", \"2020-04-10\", \"2020-04-11\", \"2020-04-12\", \"2020-04-13\", \"2020-04-14\", \"2020-04-15\", \"2020-04-16\", \"2020-04-17\", \"2020-04-18\", \"2020-04-19\", \"2020-04-20\", \"2020-04-21\", \"2020-04-22\"], \"xaxis\": \"x\", \"y\": [571, 607, 611, 607, 694, 543, 693, 767, 771, 728, 640, 502, 390, 478, 518, 482, 369, 431, 255, 220, 227, 275, 284, 270, 242, 206, 137, 208, 190, 190], \"yaxis\": \"y\"}, {\"fill\": \"tozeroy\", \"line\": {\"color\": \"rgb(0,160,0)\", \"shape\": \"spline\", \"width\": 0.5}, \"name\": \"Releases\", \"type\": \"scatter\", \"x\": [\"2020-03-24\", \"2020-03-25\", \"2020-03-26\", \"2020-03-27\", \"2020-03-28\", \"2020-03-29\", \"2020-03-30\", \"2020-03-31\", \"2020-04-01\", \"2020-04-02\", \"2020-04-03\", \"2020-04-04\", \"2020-04-05\", \"2020-04-06\", \"2020-04-07\", \"2020-04-08\", \"2020-04-09\", \"2020-04-10\", \"2020-04-11\", \"2020-04-12\", \"2020-04-13\", \"2020-04-14\", \"2020-04-15\", \"2020-04-16\", \"2020-04-17\", \"2020-04-18\", \"2020-04-19\", \"2020-04-20\", \"2020-04-21\", \"2020-04-22\"], \"xaxis\": \"x\", \"y\": [148, 175, 195, 200, 216, 187, 229, 327, 327, 363, 389, 335, 254, 389, 462, 467, 451, 493, 378, 258, 251, 366, 552, 462, 459, 395, 226, 268, 440, 190], \"yaxis\": \"y\"}, {\"fill\": \"tozeroy\", \"line\": {\"color\": \"rgb(0,0,160)\", \"shape\": \"spline\", \"width\": 0.5}, \"name\": \"Balance\", \"type\": \"scatter\", \"x\": [\"2020-03-24\", \"2020-03-25\", \"2020-03-26\", \"2020-03-27\", \"2020-03-28\", \"2020-03-29\", \"2020-03-30\", \"2020-03-31\", \"2020-04-01\", \"2020-04-02\", \"2020-04-03\", \"2020-04-04\", \"2020-04-05\", \"2020-04-06\", \"2020-04-07\", \"2020-04-08\", \"2020-04-09\", \"2020-04-10\", \"2020-04-11\", \"2020-04-12\", \"2020-04-13\", \"2020-04-14\", \"2020-04-15\", \"2020-04-16\", \"2020-04-17\", \"2020-04-18\", \"2020-04-19\", \"2020-04-20\", \"2020-04-21\", \"2020-04-22\"], \"xaxis\": \"x2\", \"y\": [423, 432, 416, 407, 478, 356, 464, 440, 444, 365, 251, 167, 136, 89, 56, 15, -82, -62, -123, -38, -24, -91, -268, -192, -217, -189, -89, -60, -250, 0], \"yaxis\": \"y2\"}],\n",
              "                        {\"annotations\": [{\"align\": \"left\", \"showarrow\": false, \"text\": \"Zone\", \"x\": 0, \"xref\": \"paper\", \"y\": 1.18, \"yref\": \"paper\"}], \"height\": 400, \"plot_bgcolor\": \"rgb(255,255,255)\", \"template\": {\"data\": {\"bar\": [{\"error_x\": {\"color\": \"#2a3f5f\"}, \"error_y\": {\"color\": \"#2a3f5f\"}, \"marker\": {\"line\": {\"color\": \"#E5ECF6\", \"width\": 0.5}}, \"type\": \"bar\"}], \"barpolar\": [{\"marker\": {\"line\": {\"color\": \"#E5ECF6\", \"width\": 0.5}}, \"type\": \"barpolar\"}], \"carpet\": [{\"aaxis\": {\"endlinecolor\": \"#2a3f5f\", \"gridcolor\": \"white\", \"linecolor\": \"white\", \"minorgridcolor\": \"white\", \"startlinecolor\": \"#2a3f5f\"}, \"baxis\": {\"endlinecolor\": \"#2a3f5f\", \"gridcolor\": \"white\", \"linecolor\": \"white\", \"minorgridcolor\": \"white\", \"startlinecolor\": \"#2a3f5f\"}, \"type\": \"carpet\"}], \"choropleth\": [{\"colorbar\": {\"outlinewidth\": 0, \"ticks\": \"\"}, \"type\": \"choropleth\"}], \"contour\": [{\"colorbar\": {\"outlinewidth\": 0, \"ticks\": \"\"}, \"colorscale\": [[0.0, \"#0d0887\"], [0.1111111111111111, \"#46039f\"], [0.2222222222222222, \"#7201a8\"], [0.3333333333333333, \"#9c179e\"], [0.4444444444444444, \"#bd3786\"], [0.5555555555555556, \"#d8576b\"], [0.6666666666666666, \"#ed7953\"], [0.7777777777777778, \"#fb9f3a\"], [0.8888888888888888, \"#fdca26\"], [1.0, \"#f0f921\"]], \"type\": \"contour\"}], \"contourcarpet\": [{\"colorbar\": {\"outlinewidth\": 0, \"ticks\": \"\"}, \"type\": \"contourcarpet\"}], \"heatmap\": [{\"colorbar\": {\"outlinewidth\": 0, \"ticks\": \"\"}, \"colorscale\": [[0.0, \"#0d0887\"], [0.1111111111111111, \"#46039f\"], [0.2222222222222222, \"#7201a8\"], [0.3333333333333333, \"#9c179e\"], [0.4444444444444444, \"#bd3786\"], [0.5555555555555556, \"#d8576b\"], [0.6666666666666666, \"#ed7953\"], [0.7777777777777778, \"#fb9f3a\"], [0.8888888888888888, \"#fdca26\"], [1.0, \"#f0f921\"]], \"type\": \"heatmap\"}], \"heatmapgl\": [{\"colorbar\": {\"outlinewidth\": 0, \"ticks\": \"\"}, \"colorscale\": [[0.0, \"#0d0887\"], [0.1111111111111111, \"#46039f\"], [0.2222222222222222, \"#7201a8\"], [0.3333333333333333, \"#9c179e\"], [0.4444444444444444, \"#bd3786\"], [0.5555555555555556, \"#d8576b\"], [0.6666666666666666, \"#ed7953\"], [0.7777777777777778, \"#fb9f3a\"], [0.8888888888888888, \"#fdca26\"], [1.0, \"#f0f921\"]], \"type\": \"heatmapgl\"}], \"histogram\": [{\"marker\": {\"colorbar\": {\"outlinewidth\": 0, \"ticks\": \"\"}}, \"type\": \"histogram\"}], \"histogram2d\": [{\"colorbar\": {\"outlinewidth\": 0, \"ticks\": \"\"}, \"colorscale\": [[0.0, \"#0d0887\"], [0.1111111111111111, \"#46039f\"], [0.2222222222222222, \"#7201a8\"], [0.3333333333333333, \"#9c179e\"], [0.4444444444444444, \"#bd3786\"], [0.5555555555555556, \"#d8576b\"], [0.6666666666666666, \"#ed7953\"], [0.7777777777777778, \"#fb9f3a\"], [0.8888888888888888, \"#fdca26\"], [1.0, \"#f0f921\"]], \"type\": \"histogram2d\"}], \"histogram2dcontour\": [{\"colorbar\": {\"outlinewidth\": 0, \"ticks\": \"\"}, \"colorscale\": [[0.0, \"#0d0887\"], [0.1111111111111111, \"#46039f\"], [0.2222222222222222, \"#7201a8\"], [0.3333333333333333, \"#9c179e\"], [0.4444444444444444, \"#bd3786\"], [0.5555555555555556, \"#d8576b\"], [0.6666666666666666, \"#ed7953\"], [0.7777777777777778, \"#fb9f3a\"], [0.8888888888888888, \"#fdca26\"], [1.0, \"#f0f921\"]], \"type\": \"histogram2dcontour\"}], \"mesh3d\": [{\"colorbar\": {\"outlinewidth\": 0, \"ticks\": \"\"}, \"type\": \"mesh3d\"}], \"parcoords\": [{\"line\": {\"colorbar\": {\"outlinewidth\": 0, \"ticks\": \"\"}}, \"type\": \"parcoords\"}], \"pie\": [{\"automargin\": true, \"type\": \"pie\"}], \"scatter\": [{\"marker\": {\"colorbar\": {\"outlinewidth\": 0, \"ticks\": \"\"}}, \"type\": \"scatter\"}], \"scatter3d\": [{\"line\": {\"colorbar\": {\"outlinewidth\": 0, \"ticks\": \"\"}}, \"marker\": {\"colorbar\": {\"outlinewidth\": 0, \"ticks\": \"\"}}, \"type\": \"scatter3d\"}], \"scattercarpet\": [{\"marker\": {\"colorbar\": {\"outlinewidth\": 0, \"ticks\": \"\"}}, \"type\": \"scattercarpet\"}], \"scattergeo\": [{\"marker\": {\"colorbar\": {\"outlinewidth\": 0, \"ticks\": \"\"}}, \"type\": \"scattergeo\"}], \"scattergl\": [{\"marker\": {\"colorbar\": {\"outlinewidth\": 0, \"ticks\": \"\"}}, \"type\": \"scattergl\"}], \"scattermapbox\": [{\"marker\": {\"colorbar\": {\"outlinewidth\": 0, \"ticks\": \"\"}}, \"type\": \"scattermapbox\"}], \"scatterpolar\": [{\"marker\": {\"colorbar\": {\"outlinewidth\": 0, \"ticks\": \"\"}}, \"type\": \"scatterpolar\"}], \"scatterpolargl\": [{\"marker\": {\"colorbar\": {\"outlinewidth\": 0, \"ticks\": \"\"}}, \"type\": \"scatterpolargl\"}], \"scatterternary\": [{\"marker\": {\"colorbar\": {\"outlinewidth\": 0, \"ticks\": \"\"}}, \"type\": \"scatterternary\"}], \"surface\": [{\"colorbar\": {\"outlinewidth\": 0, \"ticks\": \"\"}, \"colorscale\": [[0.0, \"#0d0887\"], [0.1111111111111111, \"#46039f\"], [0.2222222222222222, \"#7201a8\"], [0.3333333333333333, \"#9c179e\"], [0.4444444444444444, \"#bd3786\"], [0.5555555555555556, \"#d8576b\"], [0.6666666666666666, \"#ed7953\"], [0.7777777777777778, \"#fb9f3a\"], [0.8888888888888888, \"#fdca26\"], [1.0, \"#f0f921\"]], \"type\": \"surface\"}], \"table\": [{\"cells\": {\"fill\": {\"color\": \"#EBF0F8\"}, \"line\": {\"color\": \"white\"}}, \"header\": {\"fill\": {\"color\": \"#C8D4E3\"}, \"line\": {\"color\": \"white\"}}, \"type\": \"table\"}]}, \"layout\": {\"annotationdefaults\": {\"arrowcolor\": \"#2a3f5f\", \"arrowhead\": 0, \"arrowwidth\": 1}, \"coloraxis\": {\"colorbar\": {\"outlinewidth\": 0, \"ticks\": \"\"}}, \"colorscale\": {\"diverging\": [[0, \"#8e0152\"], [0.1, \"#c51b7d\"], [0.2, \"#de77ae\"], [0.3, \"#f1b6da\"], [0.4, \"#fde0ef\"], [0.5, \"#f7f7f7\"], [0.6, \"#e6f5d0\"], [0.7, \"#b8e186\"], [0.8, \"#7fbc41\"], [0.9, \"#4d9221\"], [1, \"#276419\"]], \"sequential\": [[0.0, \"#0d0887\"], [0.1111111111111111, \"#46039f\"], [0.2222222222222222, \"#7201a8\"], [0.3333333333333333, \"#9c179e\"], [0.4444444444444444, \"#bd3786\"], [0.5555555555555556, \"#d8576b\"], [0.6666666666666666, \"#ed7953\"], [0.7777777777777778, \"#fb9f3a\"], [0.8888888888888888, \"#fdca26\"], [1.0, \"#f0f921\"]], \"sequentialminus\": [[0.0, \"#0d0887\"], [0.1111111111111111, \"#46039f\"], [0.2222222222222222, \"#7201a8\"], [0.3333333333333333, \"#9c179e\"], [0.4444444444444444, \"#bd3786\"], [0.5555555555555556, \"#d8576b\"], [0.6666666666666666, \"#ed7953\"], [0.7777777777777778, \"#fb9f3a\"], [0.8888888888888888, \"#fdca26\"], [1.0, \"#f0f921\"]]}, \"colorway\": [\"#636efa\", \"#EF553B\", \"#00cc96\", \"#ab63fa\", \"#FFA15A\", \"#19d3f3\", \"#FF6692\", \"#B6E880\", \"#FF97FF\", \"#FECB52\"], \"font\": {\"color\": \"#2a3f5f\"}, \"geo\": {\"bgcolor\": \"white\", \"lakecolor\": \"white\", \"landcolor\": \"#E5ECF6\", \"showlakes\": true, \"showland\": true, \"subunitcolor\": \"white\"}, \"hoverlabel\": {\"align\": \"left\"}, \"hovermode\": \"closest\", \"mapbox\": {\"style\": \"light\"}, \"paper_bgcolor\": \"white\", \"plot_bgcolor\": \"#E5ECF6\", \"polar\": {\"angularaxis\": {\"gridcolor\": \"white\", \"linecolor\": \"white\", \"ticks\": \"\"}, \"bgcolor\": \"#E5ECF6\", \"radialaxis\": {\"gridcolor\": \"white\", \"linecolor\": \"white\", \"ticks\": \"\"}}, \"scene\": {\"xaxis\": {\"backgroundcolor\": \"#E5ECF6\", \"gridcolor\": \"white\", \"gridwidth\": 2, \"linecolor\": \"white\", \"showbackground\": true, \"ticks\": \"\", \"zerolinecolor\": \"white\"}, \"yaxis\": {\"backgroundcolor\": \"#E5ECF6\", \"gridcolor\": \"white\", \"gridwidth\": 2, \"linecolor\": \"white\", \"showbackground\": true, \"ticks\": \"\", \"zerolinecolor\": \"white\"}, \"zaxis\": {\"backgroundcolor\": \"#E5ECF6\", \"gridcolor\": \"white\", \"gridwidth\": 2, \"linecolor\": \"white\", \"showbackground\": true, \"ticks\": \"\", \"zerolinecolor\": \"white\"}}, \"shapedefaults\": {\"line\": {\"color\": \"#2a3f5f\"}}, \"ternary\": {\"aaxis\": {\"gridcolor\": \"white\", \"linecolor\": \"white\", \"ticks\": \"\"}, \"baxis\": {\"gridcolor\": \"white\", \"linecolor\": \"white\", \"ticks\": \"\"}, \"bgcolor\": \"#E5ECF6\", \"caxis\": {\"gridcolor\": \"white\", \"linecolor\": \"white\", \"ticks\": \"\"}}, \"title\": {\"x\": 0.05}, \"xaxis\": {\"automargin\": true, \"gridcolor\": \"white\", \"linecolor\": \"white\", \"ticks\": \"\", \"title\": {\"standoff\": 15}, \"zerolinecolor\": \"white\", \"zerolinewidth\": 2}, \"yaxis\": {\"automargin\": true, \"gridcolor\": \"white\", \"linecolor\": \"white\", \"ticks\": \"\", \"title\": {\"standoff\": 15}, \"zerolinecolor\": \"white\", \"zerolinewidth\": 2}}}, \"title\": {\"text\": \"Admissions, releases and balance for COVID-19 reanimation services in France (last update : 2020-04-22 08:48:13.867062)\"}, \"updatemenus\": [{\"buttons\": [{\"args\": [{\"y\": [[571, 607, 611, 607, 694, 543, 693, 767, 771, 728, 640, 502, 390, 478, 518, 482, 369, 431, 255, 220, 227, 275, 284, 270, 242, 206, 137, 208, 190, 190], [148, 175, 195, 200, 216, 187, 229, 327, 327, 363, 389, 335, 254, 389, 462, 467, 451, 493, 378, 258, 251, 366, 552, 462, 459, 395, 226, 268, 440, 190], [423, 432, 416, 407, 478, 356, 464, 440, 444, 365, 251, 167, 136, 89, 56, 15, -82, -62, -123, -38, -24, -91, -268, -192, -217, -189, -89, -60, -250, 0]]}], \"label\": \"Entire France\", \"method\": \"restyle\"}, {\"args\": [{\"y\": [[1, 2, 2, 3, 3, 2, 6, 0, 14, 7, 3, 9, 4, 2, 3, 7, 3, 2, 3, 2, 1, 0, 0, 2, 2, 2, 1, 1, 3, 3], [1, -1, 2, 0, 0, 1, 0, 3, 2, 2, 5, 8, 6, 2, 1, 5, 4, 7, 1, 2, 1, 1, 6, 1, 2, 1, 2, 3, 2, 3], [0, 3, 0, 3, 3, 1, 6, -3, 12, 5, -2, 1, -2, 0, 2, 2, -1, -5, 2, 0, 0, -1, -6, 1, 0, 1, -1, -2, 1, 0]]}], \"label\": \"Ain\", \"method\": \"restyle\"}, {\"args\": [{\"y\": [[4, 5, 3, 3, 2, 0, 4, 6, 4, 1, 4, 4, 0, 0, 4, 5, 4, 6, 0, 1, 0, 1, 4, 1, 1, 0, 1, 8, 1, 1], [0, 0, 0, 3, 3, 0, 4, 3, 1, 3, 3, 3, 1, 3, 5, 1, 4, 1, 1, 0, 0, 0, 2, 1, 4, 3, 1, 2, 8, 1], [4, 5, 3, 0, -1, 0, 0, 3, 3, -2, 1, 1, -1, -3, -1, 4, 0, 5, -1, 1, 0, 1, 2, 0, -3, -3, 0, 6, -7, 0]]}], \"label\": \"Aisne\", \"method\": \"restyle\"}, {\"args\": [{\"y\": [[0, 2, 1, 2, 1, 3, 4, 2, 1, 3, 1, 0, 4, 1, 0, 3, 1, 2, 1, 0, 0, 2, 0, 0, 0, 0, 1, 0, 0, 0], [0, 2, 0, 1, 1, 0, 1, -3, 1, 2, 2, 1, 0, -1, -1, 1, 0, 2, 1, 2, 0, 1, 1, 0, 1, 2, 0, 0, 0, 0], [0, 0, 1, 1, 0, 3, 3, 5, 0, 1, -1, -1, 4, 2, 1, 2, 1, 0, 0, -2, 0, 1, -1, 0, -1, -2, 1, 0, 0, 0]]}], \"label\": \"Allier\", \"method\": \"restyle\"}, {\"args\": [{\"y\": [[0, 0, 0, 0, 0, 0, 3, 0, 1, 0, 1, 0, 2, 0, 0, 0, 0, 1, 1, 0, 0, 0, 0, 0, 0, 0, 0, 0, 0, 0], [0, 0, 0, 0, 0, 0, 0, 0, 0, 0, 0, 1, 0, 2, 2, 0, 0, 0, 0, 0, 1, 0, 0, 1, 0, 0, 0, 1, 0, 0], [0, 0, 0, 0, 0, 0, 3, 0, 1, 0, 1, -1, 2, -2, -2, 0, 0, 1, 1, 0, -1, 0, 0, -1, 0, 0, 0, -1, 0, 0]]}], \"label\": \"Alpes-de-Haute-Provence\", \"method\": \"restyle\"}, {\"args\": [{\"y\": [[1, 0, 1, 1, 0, 2, 0, 1, 2, 5, 3, 1, 0, 1, 1, 2, 0, 0, 0, 0, 0, 0, 0, 0, 0, 0, 0, 1, 0, 0], [0, 0, -1, 0, 0, 1, 2, 0, -2, 0, 3, 0, 0, 1, 1, 3, 1, 0, 0, 2, 0, 0, 1, 0, 1, 2, 0, 0, 1, 0], [1, 0, 2, 1, 0, 1, -2, 1, 4, 5, 0, 1, 0, 0, 0, -1, -1, 0, 0, -2, 0, 0, -1, 0, -1, -2, 0, 1, -1, 0]]}], \"label\": \"Hautes-Alpes\", \"method\": \"restyle\"}, {\"args\": [{\"y\": [[1, 5, 1, 4, 4, 5, 5, 4, 9, 17, 9, 12, 2, 11, 11, 16, 5, 7, 2, 2, 4, 4, 1, 2, 3, 1, 0, 4, 0, 0], [2, 0, 0, 0, 5, 0, 1, 0, 2, -3, 5, 0, 1, 9, 10, 10, 8, 8, 6, 1, 5, 4, 11, 7, 9, 3, 1, 9, 2, 0], [-1, 5, 1, 4, -1, 5, 4, 4, 7, 20, 4, 12, 1, 2, 1, 6, -3, -1, -4, 1, -1, 0, -10, -5, -6, -2, -1, -5, -2, 0]]}], \"label\": \"Alpes-Maritimes\", \"method\": \"restyle\"}, {\"args\": [{\"y\": [[2, 1, 1, 2, 1, 1, 1, 5, 2, 3, 2, 0, 1, 4, 1, 3, 2, 2, 2, 1, 0, 4, 1, 0, 1, 0, 0, 1, 3, 3], [1, 0, -1, 0, 1, 2, 1, 2, 2, 1, -1, 1, 1, 3, -2, 2, -1, 1, 0, 2, 1, 4, 1, 1, 1, 0, 0, 1, 0, 3], [1, 1, 2, 2, 0, -1, 0, 3, 0, 2, 3, -1, 0, 1, 3, 1, 3, 1, 2, -1, -1, 0, 0, -1, 0, 0, 0, 0, 3, 0]]}], \"label\": \"Ard\\u00e8che\", \"method\": \"restyle\"}, {\"args\": [{\"y\": [[0, 1, 4, 2, 0, 3, 0, 8, 0, 1, 0, 2, 0, 0, 1, 0, 2, 0, 1, 0, 0, 3, 1, 0, 3, 1, 0, 0, 0, 0], [0, 1, 0, 1, 0, 0, 0, 2, 1, 0, 0, 1, 0, 0, 1, 1, 1, 2, 0, 2, 0, 1, 0, 1, 4, 1, 0, 0, 0, 0], [0, 0, 4, 1, 0, 3, 0, 6, -1, 1, 0, 1, 0, 0, 0, -1, 1, -2, 1, -2, 0, 2, 1, -1, -1, 0, 0, 0, 0, 0]]}], \"label\": \"Ardennes\", \"method\": \"restyle\"}, {\"args\": [{\"y\": [[0, 0, 0, 0, 0, 1, 1, 0, 3, 0, 0, 0, 0, 0, 0, 0, 0, 0, 0, 0, 0, 0, 0, 0, 1, 0, 0, 0, 0, 0], [0, 0, 0, 2, 0, 0, 0, 0, 0, 0, 0, 1, 0, 1, 0, 0, 0, 0, 0, 0, 0, 0, 1, 1, 1, 0, 0, 1, 0, 0], [0, 0, 0, -2, 0, 1, 1, 0, 3, 0, 0, -1, 0, -1, 0, 0, 0, 0, 0, 0, 0, 0, -1, -1, 0, 0, 0, -1, 0, 0]]}], \"label\": \"Ari\\u00e8ge\", \"method\": \"restyle\"}, {\"args\": [{\"y\": [[1, 5, 2, 0, 0, 0, 0, 1, 5, 2, 0, 5, 1, 0, 2, 2, 5, 0, 0, 0, 0, 1, 0, 0, 0, 0, 1, 0, 6, 6], [1, 0, -2, 0, 0, 0, 0, 1, 3, 0, 0, 0, 0, 0, 0, 3, 2, 0, 0, 0, 0, 2, 0, 0, 0, 0, 0, 0, 15, 6], [0, 5, 4, 0, 0, 0, 0, 0, 2, 2, 0, 5, 1, 0, 2, -1, 3, 0, 0, 0, 0, -1, 0, 0, 0, 0, 1, 0, -9, 0]]}], \"label\": \"Aube\", \"method\": \"restyle\"}, {\"args\": [{\"y\": [[1, 1, 3, 2, 5, 1, 2, 0, 3, 1, 1, 1, 0, 2, 3, 0, 1, 2, 0, 0, 1, 0, 0, 0, 1, 0, 1, 0, 1, 1], [3, 0, 4, -1, 0, 2, 0, 2, 1, 2, 1, 0, 2, 5, 1, 3, 0, 2, 1, 0, 1, 2, 2, 0, 3, 0, 0, 1, 0, 1], [-2, 1, -1, 3, 5, -1, 2, -2, 2, -1, 0, 1, -2, -3, 2, -3, 1, 0, -1, 0, 0, -2, -2, 0, -2, 0, 1, -1, 1, 0]]}], \"label\": \"Aude\", \"method\": \"restyle\"}, {\"args\": [{\"y\": [[1, 1, 2, 1, 0, 0, 2, 2, 0, 1, 1, 2, 0, 0, 0, 0, 1, 2, 0, 0, 0, 0, 0, 0, 0, 0, 0, 0, 0, 0], [0, 0, 1, 0, 0, 0, 0, 0, 0, 0, 1, 2, 2, 0, 0, 1, 0, 3, 2, 0, 1, 0, 1, 0, 0, 0, 0, 0, 1, 0], [1, 1, 1, 1, 0, 0, 2, 2, 0, 1, 0, 0, -2, 0, 0, -1, 1, -1, -2, 0, -1, 0, -1, 0, 0, 0, 0, 0, -1, 0]]}], \"label\": \"Aveyron\", \"method\": \"restyle\"}, {\"args\": [{\"y\": [[20, 5, 22, 16, 16, 27, 34, 22, 29, 20, 29, 15, 10, 17, 10, 19, 11, 30, 9, 9, 8, 12, 15, 16, 13, 9, 7, 21, 7, 7], [2, 5, 7, 3, 2, 2, -1, 13, 13, 13, 9, 9, 1, 14, 15, 15, 16, 11, 12, 5, 6, 21, 21, 18, 20, 21, 23, 11, 24, 7], [18, 0, 15, 13, 14, 25, 35, 9, 16, 7, 20, 6, 9, 3, -5, 4, -5, 19, -3, 4, 2, -9, -6, -2, -7, -12, -16, 10, -17, 0]]}], \"label\": \"Bouches-du-Rh\\u00f4ne\", \"method\": \"restyle\"}, {\"args\": [{\"y\": [[5, 5, 3, 5, 8, 5, 1, 5, 7, 9, 7, 5, 3, 5, 0, 3, 2, 1, 1, 0, 0, 0, 1, 4, 2, 0, 2, 0, 1, 1], [1, 1, 1, 0, 2, 1, 1, 1, 1, 4, 6, 1, 0, 0, 0, 5, 1, 0, 5, 4, 2, 6, 4, 4, 6, 2, 0, 1, 3, 1], [4, 4, 2, 5, 6, 4, 0, 4, 6, 5, 1, 4, 3, 5, 0, -2, 1, 1, -4, -4, -2, -6, -3, 0, -4, -2, 2, -1, -2, 0]]}], \"label\": \"Calvados\", \"method\": \"restyle\"}, {\"args\": [{\"y\": [[1, 1, 0, 0, 0, 0, 0, 1, 1, 0, 2, 0, 1, 0, 1, 1, 0, 0, 0, 0, 0, 2, 0, 1, 0, 0, 0, 1, 0, 0], [0, 0, 0, 0, 0, 0, 0, 0, 0, -1, 2, 0, 1, 0, -1, 1, 0, 1, 1, 0, 0, 0, 1, 1, 1, 0, 1, 0, 0, 0], [1, 1, 0, 0, 0, 0, 0, 1, 1, 1, 0, 0, 0, 0, 2, 0, 0, -1, -1, 0, 0, 2, -1, 0, -1, 0, -1, 1, 0, 0]]}], \"label\": \"Cantal\", \"method\": \"restyle\"}, {\"args\": [{\"y\": [[0, 0, 1, 0, 0, 7, 2, 2, 1, 5, 2, 5, 0, 3, 0, 3, 1, 3, 1, 2, 1, 0, 1, 0, 0, 2, 0, 1, 0, 1, 1, 2, 0, 0, 1, 1, 0, 0, 0, 0, 0, 0, 0, 1, 0, 2, 0, 0, 0, 1, 0, 2, 0, 0, 0, 0, 0, 0, 0, 0], [0, 0, 2, 0, 0, 2, 0, 0, 1, 2, 0, 0, -1, -1, 2, 4, 0, 3, 0, 1, 2, 0, 1, 0, 1, 2, 0, 0, 1, 1, 2, 4, 0, 1, 1, 3, -3, -1, 1, 1, 0, 2, 0, 0, 1, 1, 1, 2, 0, 3, 1, 0, 0, 0, 0, 0, 0, 2, 0, 0], [0, 0, -1, 0, 0, 5, 2, 2, 0, 3, 2, 5, 1, 4, -2, -1, 1, 0, 1, 1, -1, 0, 0, 0, -1, 0, 0, 1, -1, 0, -1, -2, 0, -1, 0, -2, 3, 1, -1, -1, 0, -2, 0, 1, -1, 1, -1, -2, 0, -2, -1, 2, 0, 0, 0, 0, 0, -2, 0, 0]]}], \"label\": \"Charente\", \"method\": \"restyle\"}, {\"args\": [{\"y\": [[0, 0, 7, 2, 5, 5, 3, 3, 3, 2, 0, 0, 2, 1, 1, 2, 0, 1, 0, 0, 0, 1, 2, 0, 1, 2, 0, 0, 0, 0], [0, 0, 2, 0, 2, 0, -1, 4, 3, 1, 0, 0, 2, 0, 1, 4, 1, 3, -1, 1, 2, 0, 1, 2, 3, 0, 0, 0, 2, 0], [0, 0, 5, 2, 3, 5, 4, -1, 0, 1, 0, 0, 0, 1, 0, -2, -1, -2, 1, -1, -2, 1, 1, -2, -2, 2, 0, 0, -2, 0]]}], \"label\": \"Charente-Maritime\", \"method\": \"restyle\"}, {\"args\": [{\"y\": [[2, 0, 3, 1, 1, 1, 0, 2, 3, 0, 0, 1, 4, 1, 2, 4, 1, 2, 1, 3, 0, 0, 2, 0, 1, 0, 2, 2, 3, 0, 0, 1, 0, 4, 1, 1, 1, 0, 0, 0, 0, 0, 0, 1, 1, 2, 0, 0, 0, 6, 1, 0, 0, 0, 0, 3, 1, 0, 1, 0], [0, 0, 0, 0, 0, 1, 2, 0, -1, 0, 0, 1, 0, -1, 0, 0, 0, 1, 2, 0, 1, 1, -1, -1, 1, 0, 3, 2, 1, 0, 2, -1, 2, 3, 0, 1, 0, 2, 1, 0, 0, 1, 1, 0, 1, 1, 6, 4, 3, 0, 1, 1, 0, 0, 0, 1, 1, 2, 1, 0], [2, 0, 3, 1, 1, 0, -2, 2, 4, 0, 0, 0, 4, 2, 2, 4, 1, 1, -1, 3, -1, -1, 3, 1, 0, 0, -1, 0, 2, 0, -2, 2, -2, 1, 1, 0, 1, -2, -1, 0, 0, -1, -1, 1, 0, 1, -6, -4, -3, 6, 0, -1, 0, 0, 0, 2, 0, -2, 0, 0]]}], \"label\": \"Cher\", \"method\": \"restyle\"}, {\"args\": [{\"y\": [[2, 1, 2, 0, 3, 2, 1, 0, 3, 0, 0, 0, 1, 1, 1, 1, 1, 2, 0, 0, 1, 0, 0, 0, 0, 0, 0, 2, 0, 0], [0, 0, 0, 0, 3, 1, 0, 1, 2, 0, 0, 1, 1, 0, 1, 0, 0, 2, -2, 0, 0, 1, 0, 0, 0, 1, 0, 0, 1, 0], [2, 1, 2, 0, 0, 1, 1, -1, 1, 0, 0, -1, 0, 1, 0, 1, 1, 0, 2, 0, 1, -1, 0, 0, 0, -1, 0, 2, -1, 0]]}], \"label\": \"Corr\\u00e8ze\", \"method\": \"restyle\"}, {\"args\": [{\"y\": [[1, 10, 0, 3, 8, 8, 1, 2, 9, 8, 6, 7, 2, 14, 6, 2, 0, 7, 0, 1, 3, 1, 7, 5, 0, 4, 5, 1, 4, 4], [1, 2, 2, 1, 5, 5, 3, 8, 5, -4, 0, 3, 3, 3, 3, 7, 1, 1, 7, 1, 2, 1, 2, 2, 7, 1, 16, 2, 6, 4], [0, 8, -2, 2, 3, 3, -2, -6, 4, 12, 6, 4, -1, 11, 3, -5, -1, 6, -7, 0, 1, 0, 5, 3, -7, 3, -11, -1, -2, 0]]}], \"label\": \"C\\u00f4te-d'Or\", \"method\": \"restyle\"}, {\"args\": [{\"y\": [[2, 0, 3, 1, 0, 1, 1, 0, 2, 9, 0, 1, 0, 1, 1, 0, 1, 0, 1, 0, 0, 0, 0, 0, 0, 0, 0, 0, 0, 0], [1, 0, 1, 0, 0, 1, 1, 0, 2, -2, -1, 1, 1, 0, 5, 0, 2, 1, 0, 0, 1, 1, 2, 0, 0, 1, 0, 0, 1, 0], [1, 0, 2, 1, 0, 0, 0, 0, 0, 11, 1, 0, -1, 1, -4, 0, -1, -1, 1, 0, -1, -1, -2, 0, 0, -1, 0, 0, -1, 0]]}], \"label\": \"C\\u00f4tes-d'Armor\", \"method\": \"restyle\"}, {\"args\": [{\"y\": [[0, 1, 2, 2, 2, 0, 3, 0, 0, 1, 0, 0, 0, 0, 0, 2, 0, 0, 1, 1, 0, 1, 0, 0, 0, 0, 0, 0, 0, 0], [0, 1, 2, 0, 2, 0, 1, 0, 0, 0, 0, 0, 0, 0, -2, 0, -1, -3, 0, 0, 0, 2, 2, 0, 0, 0, 0, 1, 1, 0], [0, 0, 0, 2, 0, 0, 2, 0, 0, 1, 0, 0, 0, 0, 2, 2, 1, 3, 1, 1, 0, -1, -2, 0, 0, 0, 0, -1, -1, 0]]}], \"label\": \"Creuse\", \"method\": \"restyle\"}, {\"args\": [{\"y\": [[1, 1, 0, 1, 0, 0, 0, 0, 1, 0, 1, 2, 0, 0, 0, 0, 0, 0, 0, 1, 2, 0, 0, 0, 1, 0, 1, 0, 0, 0], [0, 0, 1, 0, 0, 0, 1, 1, 0, 0, 0, 1, 0, 0, 0, 0, 0, 1, -1, 1, 1, 0, 2, 0, 0, 0, 1, 0, 0, 0], [1, 1, -1, 1, 0, 0, -1, -1, 1, 0, 1, 1, 0, 0, 0, 0, 0, -1, 1, 0, 1, 0, -2, 0, 1, 0, 0, 0, 0, 0]]}], \"label\": \"Dordogne\", \"method\": \"restyle\"}, {\"args\": [{\"y\": [[5, 2, 2, 7, 1, 17, 1, 8, 8, 10, 14, 8, 2, 3, 10, 3, 5, 1, 2, 2, 1, 0, 0, 5, 1, 2, 1, 1, 2, 2], [1, 1, 0, -1, 0, -1, 4, 10, 6, 1, 4, 4, 5, 1, 4, 3, 9, 3, 0, 4, 1, 0, 5, 4, 6, 9, 7, 1, 3, 2], [4, 1, 2, 8, 1, 18, -3, -2, 2, 9, 10, 4, -3, 2, 6, 0, -4, -2, 2, -2, 0, 0, -5, 1, -5, -7, -6, 0, -1, 0]]}], \"label\": \"Doubs\", \"method\": \"restyle\"}, {\"args\": [{\"y\": [[5, 6, 9, 8, 9, 6, 11, 5, 6, 1, 4, 4, 0, 6, 5, 1, 1, 2, 3, 1, 0, 2, 4, 4, 1, 1, 0, 1, 2, 2], [0, 2, 4, 3, -2, 0, 2, 5, 5, 1, -1, 2, 4, 0, 8, 3, 1, 7, 4, 3, 2, 0, 6, 5, 2, 5, 2, 2, 3, 2], [5, 4, 5, 5, 11, 6, 9, 0, 1, 0, 5, 2, -4, 6, -3, -2, 0, -5, -1, -2, -2, 2, -2, -1, -1, -4, -2, -1, -1, 0]]}], \"label\": \"Dr\\u00f4me\", \"method\": \"restyle\"}, {\"args\": [{\"y\": [[0, 2, 1, 7, 1, 4, 0, 6, 0, 0, 0, 2, 1, 2, 3, 2, 0, 2, 1, 3, 0, 0, 0, 3, 0, 3, 2, 2, 2, 0, 1, 3, 0, 0, 2, 1, 0, 1, 0, 0, 0, 0, 0, 2, 0, 0, 0, 2, 0, 3, 0, 0, 0, 0, 0, 1, 0, 0, 0, 0], [0, 0, -1, 1, -2, 2, -1, 1, 0, 1, 0, -1, -1, 0, 0, 4, 5, 0, 1, 1, -2, 3, 0, 3, 0, 0, 3, 3, 1, 1, 7, 1, 0, 2, 0, 0, 0, 6, 1, 0, 0, 0, 0, 3, 0, 2, 1, 0, 0, 1, 0, 3, 0, 0, 1, 0, 1, 1, 0, 0], [0, 2, 2, 6, 3, 2, 1, 5, 0, -1, 0, 3, 2, 2, 3, -2, -5, 2, 0, 2, 2, -3, 0, 0, 0, 3, -1, -1, 1, -1, -6, 2, 0, -2, 2, 1, 0, -5, -1, 0, 0, 0, 0, -1, 0, -2, -1, 2, 0, 2, 0, -3, 0, 0, -1, 1, -1, -1, 0, 0]]}], \"label\": \"Eure\", \"method\": \"restyle\"}, {\"args\": [{\"y\": [[2, 7, 4, 6, 0, 2, 2, 2, 2, 3, 0, 3, 3, 2, 0, 3, 0, 1, 1, 0, 0, 2, 0, 2, 3, 0, 0, 1, 0, 0], [0, 1, 2, 1, 1, -1, 0, 4, 0, 1, 3, 3, 0, 3, 1, 1, 2, 0, 6, 0, 0, 3, 2, 0, 1, 3, 0, 0, 1, 0], [2, 6, 2, 5, -1, 3, 2, -2, 2, 2, -3, 0, 3, -1, -1, 2, -2, 1, -5, 0, 0, -1, -2, 2, 2, -3, 0, 1, -1, 0]]}], \"label\": \"Eure-et-Loir\", \"method\": \"restyle\"}, {\"args\": [{\"y\": [[4, 6, 1, 1, 11, 0, 4, 7, 8, 3, 3, 1, 1, 0, 1, 1, 0, 1, 1, 1, 1, 1, 1, 1, 0, 2, 0, 0, 0, 0], [4, -2, 1, 1, 9, 0, 3, 7, 3, -7, -2, 0, 0, -6, -1, 0, 3, 1, 2, 2, 2, 1, 4, 3, 3, 4, 1, 1, 0, 0], [0, 8, 0, 0, 2, 0, 1, 0, 5, 10, 5, 1, 1, 6, 2, 1, -3, 0, -1, -1, -1, 0, -3, -2, -3, -2, -1, -1, 0, 0]]}], \"label\": \"Finist\\u00e8re\", \"method\": \"restyle\"}, {\"args\": [{\"y\": [[0, 0, 4, 0, 6, 4, 1, 2, 3, 1, 1, 1, 0, 1, 3, 3, 1, 0, 0, 1, 1, 1, 0, 0, 1, 0, 0, 1, 0, 0], [0, 0, 0, 1, 1, 2, 1, 0, 0, 3, 1, 0, 0, 2, 4, 5, 3, 3, 0, 1, 0, 0, 1, 2, 2, 2, 0, 0, 0, 0], [0, 0, 4, -1, 5, 2, 0, 2, 3, -2, 0, 1, 0, -1, -1, -2, -2, -3, 0, 0, 1, 1, -1, -2, -1, -2, 0, 1, 0, 0]]}], \"label\": \"Corse-du-Sud\", \"method\": \"restyle\"}, {\"args\": [{\"y\": [[0, 0, 0, 1, 0, 0, 0, 0, 0, 2, 0, 1, 0, 0, 0, 0, 0, 0, 0, 0, 0, 0, 1, 1, 0, 0, 0, 1, 0, 0], [0, 0, 0, 0, 0, 0, 0, 0, 0, 0, 0, 1, 0, 1, 0, 0, 0, 1, 0, 1, 0, 0, 0, 0, 0, 0, 0, 1, 0, 0], [0, 0, 0, 1, 0, 0, 0, 0, 0, 2, 0, 0, 0, -1, 0, 0, 0, -1, 0, -1, 0, 0, 1, 1, 0, 0, 0, 0, 0, 0]]}], \"label\": \"Haute-Corse\", \"method\": \"restyle\"}, {\"args\": [{\"y\": [[5, 2, 2, 0, 4, 2, 4, 6, 5, 6, 3, 0, 8, 5, 2, 2, 1, 3, 3, 0, 0, 0, 2, 1, 4, 0, 1, 5, 0, 0], [2, 0, 1, 0, 1, 3, 0, 3, -1, 2, 3, 1, 1, 0, 0, 4, 1, 3, 4, 0, 0, 4, 2, 1, 2, 2, 0, 4, 1, 0], [3, 2, 1, 0, 3, -1, 4, 3, 6, 4, 0, -1, 7, 5, 2, -2, 0, 0, -1, 0, 0, -4, 0, 0, 2, -2, 1, 1, -1, 0]]}], \"label\": \"Gard\", \"method\": \"restyle\"}, {\"args\": [{\"y\": [[10, 12, 20, 9, 6, 9, 15, 8, 13, 9, 2, 8, 2, 9, 2, 9, 4, 4, 3, 1, 0, 4, 5, 2, 4, 0, 3, 0, 0, 0], [1, 4, 1, 8, 2, 4, 2, 3, 5, 5, 0, 0, 5, 4, 7, 3, 6, 13, 3, 1, 2, 1, 6, 4, 6, 2, 4, 3, 9, 0], [9, 8, 19, 1, 4, 5, 13, 5, 8, 4, 2, 8, -3, 5, -5, 6, -2, -9, 0, 0, -2, 3, -1, -2, -2, -2, -1, -3, -9, 0]]}], \"label\": \"Haute-Garonne\", \"method\": \"restyle\"}, {\"args\": [{\"y\": [[0, 0, 0, 1, 0, 0, 0, 0, 0, 1, 0, 0, 1, 0, 0, 0, 1, 0, 0, 0, 0, 0, 0, 0, 1, 0, 0, 2, 0, 0], [0, 0, 0, 0, 0, 0, 0, 0, 0, 0, 0, 0, 1, 0, 0, 1, 0, 1, 0, 0, 0, 1, 0, 0, 1, 0, 0, 0, 0, 0], [0, 0, 0, 1, 0, 0, 0, 0, 0, 1, 0, 0, 0, 0, 0, -1, 1, -1, 0, 0, 0, -1, 0, 0, 0, 0, 0, 2, 0, 0]]}], \"label\": \"Gers\", \"method\": \"restyle\"}, {\"args\": [{\"y\": [[23, 8, 9, 13, 6, 10, 15, 15, 12, 10, 6, 7, 2, 5, 5, 7, 6, 4, 4, 1, 5, 1, 2, 2, 3, 3, 4, 1, 0, 0], [6, 8, 4, 6, 3, 3, 0, 12, 5, 12, 5, 2, 4, 4, 6, 8, 8, 10, -17, 4, 1, 2, 8, 7, 9, 3, 1, 5, 5, 0], [17, 0, 5, 7, 3, 7, 15, 3, 7, -2, 1, 5, -2, 1, -1, -1, -2, -6, 21, -3, 4, -1, -6, -5, -6, 0, 3, -4, -5, 0]]}], \"label\": \"Gironde\", \"method\": \"restyle\"}, {\"args\": [{\"y\": [[9, 9, 8, 9, 11, 7, 14, 7, 10, 6, 10, 3, 0, 6, 5, 4, 0, 7, 2, 1, 7, 5, 5, 4, 0, 4, 3, 7, 0, 0], [4, 7, 7, 3, 3, 0, 5, 5, 3, 4, 8, 6, 6, 7, 5, 5, 3, 6, 13, 1, 5, 6, 7, 8, 6, 2, 1, 10, 4, 0], [5, 2, 1, 6, 8, 7, 9, 2, 7, 2, 2, -3, -6, -1, 0, -1, -3, 1, -11, 0, 2, -1, -2, -4, -6, 2, 2, -3, -4, 0]]}], \"label\": \"H\\u00e9rault\", \"method\": \"restyle\"}, {\"args\": [{\"y\": [[2, 2, 2, 4, 5, 2, 4, 7, 7, 5, 1, 3, 4, 2, 1, 4, 2, 1, 2, 0, 1, 1, 0, 1, 3, 2, 1, 1, 2, 2], [3, 1, 2, 2, 5, 3, 2, 2, 4, -8, 3, 1, 4, -9, 6, 2, 0, 7, 6, 3, 1, 0, 3, 2, 7, 2, 1, 3, 3, 2], [-1, 1, 0, 2, 0, -1, 2, 5, 3, 13, -2, 2, 0, 11, -5, 2, 2, -6, -4, -3, 0, 1, -3, -1, -4, 0, 0, -2, -1, 0]]}], \"label\": \"Ille-et-Vilaine\", \"method\": \"restyle\"}, {\"args\": [{\"y\": [[2, 1, 0, 5, 0, 1, 3, 9, 3, 2, 0, 5, 0, 5, 0, 5, 1, 6, 1, 6, 2, 9, 1, 8, 0, 0, 0, 6, 0, 0, 2, 4, 0, 5, 0, 3, 0, 5, 0, 0, 0, 0, 0, 1, 0, 0, 0, 0, 0, 0, 0, 0, 0, 1, 0, 0, 0, 2, 0, 2], [0, 1, 0, 3, 0, 0, 3, 3, 1, 2, 1, 2, 0, 2, 0, -3, 3, 0, 0, -2, 0, 6, -1, -1, 1, 2, 0, 2, 0, -4, 1, 5, 0, 4, 2, 3, 0, 2, 0, 6, 0, 1, 0, 8, 0, 1, 0, 3, 0, 2, 0, 2, 0, 1, 0, 0, 1, 3, 0, 2], [2, 0, 0, 2, 0, 1, 0, 6, 2, 0, -1, 3, 0, 3, 0, 8, -2, 6, 1, 8, 2, 3, 2, 9, -1, -2, 0, 4, 0, 4, 1, -1, 0, 1, -2, 0, 0, 3, 0, -6, 0, -1, 0, -7, 0, -1, 0, -3, 0, -2, 0, -2, 0, 0, 0, 0, -1, -1, 0, 0]]}], \"label\": \"Indre\", \"method\": \"restyle\"}, {\"args\": [{\"y\": [[1, 5, 1, 9, 2, 5, 5, 5, 6, 6, 9, 8, 0, 6, 0, 4, 5, 3, 5, 0, 0, 1, 0, 0, 0, 0, 1, 0, 2, 2], [1, 3, 0, 3, 2, 2, 2, -3, 0, -2, 6, -1, 2, 2, -4, 5, 4, 3, 2, 6, 1, 8, 1, 3, 2, 2, 1, 0, 3, 2], [0, 2, 1, 6, 0, 3, 3, 8, 6, 8, 3, 9, -2, 4, 4, -1, 1, 0, 3, -6, -1, -7, -1, -3, -2, -2, 0, 0, -1, 0]]}], \"label\": \"Indre-et-Loire\", \"method\": \"restyle\"}, {\"args\": [{\"y\": [[0, 9, 6, 13, 2, 10, 7, 3, 5, 3, 5, 4, 4, 5, 5, 2, 8, 3, 3, 2, 1, 2, 7, 0, 3, 1, 1, 2, 3, 3], [0, 0, 4, 2, 1, 2, -1, -5, 1, 3, 1, 4, 1, 5, 4, 13, 3, 7, 5, 4, 4, 4, 4, 5, 5, 5, 5, 1, 8, 3], [0, 9, 2, 11, 1, 8, 8, 8, 4, 0, 4, 0, 3, 0, 1, -11, 5, -4, -2, -2, -3, -2, 3, -5, -2, -4, -4, 1, -5, 0]]}], \"label\": \"Is\\u00e8re\", \"method\": \"restyle\"}, {\"args\": [{\"y\": [[1, 2, 5, 3, 0, 0, 0, 1, 0, 1, 1, 1, 0, 2, 3, 1, 2, 4, 0, 1, 2, 1, 1, 0, 2, 1, 0, 0, 0, 0], [0, 0, 0, 0, 3, 0, 0, 1, 0, 0, 0, 1, 0, 3, 2, 0, 1, 1, 2, 0, 0, 0, 1, 1, 2, 4, 0, 2, 3, 0], [1, 2, 5, 3, -3, 0, 0, 0, 0, 1, 1, 0, 0, -1, 1, 1, 1, 3, -2, 1, 2, 1, 0, -1, 0, -3, 0, -2, -3, 0]]}], \"label\": \"Jura\", \"method\": \"restyle\"}, {\"args\": [{\"y\": [[0, 3, 1, 0, 0, 0, 1, 1, 2, 0, 1, 1, 0, 3, 0, 1, 0, 0, 0, 0, 0, 1, 0, 0, 1, 0, 0, 1, 0, 0], [0, 1, 0, 0, 0, 0, 0, 0, 1, 0, 0, -4, 0, 1, 0, 1, 0, 1, 0, 1, 0, 1, 2, 3, 2, 0, 0, 1, 0, 0], [0, 2, 1, 0, 0, 0, 1, 1, 1, 0, 1, 5, 0, 2, 0, 0, 0, -1, 0, -1, 0, 0, -2, -3, -1, 0, 0, 0, 0, 0]]}], \"label\": \"Landes\", \"method\": \"restyle\"}, {\"args\": [{\"y\": [[0, 1, 1, 2, 0, 1, 1, 4, 2, 3, 0, 0, 0, 2, 0, 1, 4, 1, 0, 0, 0, 1, 2, 0, 6, 0, 0, 3, 0, 0], [0, 0, 1, 0, 0, 1, -1, 0, 1, 0, 1, -1, 0, 2, 0, -1, 3, 1, 2, 0, 1, 0, 1, 4, 0, 1, 0, 1, 2, 0], [0, 1, 0, 2, 0, 0, 2, 4, 1, 3, -1, 1, 0, 0, 0, 2, 1, 0, -2, 0, -1, 1, 1, -4, 6, -1, 0, 2, -2, 0]]}], \"label\": \"Loir-et-Cher\", \"method\": \"restyle\"}, {\"args\": [{\"y\": [[1, 4, 0, 4, 0, 8, 5, 5, 12, 1, 5, 5, 2, 3, 1, 9, 2, 6, 8, 7, 3, 9, 3, 0, 8, 1, 5, 4, 2, 17, 0, 8, 5, 5, 4, 5, 8, 0, 3, 10, 1, 1, 5, 10, 0, 3, 4, 9, 10, 5, 4, 0, 11, 7, 10, 2, 6, 4, 0, 4, 12, 11, 8, 6, 8, 0, 7, 8, 5, 4, 9, 5, 0, 6, 14, 7, 3, 8, 8, 1, 3, 3, 1, 2, 0, 1, 0, 3, 2, 1, 0, 6, 6, 0, 3, 7, 3, 3, 0, 2, 1, 2, 5, 3, 4, 4, 6, 0, 4, 10, 5, 5, 5, 2, 0, 3, 5, 5, 3, 3, 8, 0, 7, 6, 2, 2, 5, 0, 0, 0, 2, 1, 1, 0, 7, 0, 2, 1, 2, 3, 0, 2, 0, 1, 8, 0, 2, 1, 3, 0, 0, 5, 2, 0, 0, 2, 0, 1, 6, 4, 1, 0, 3, 0, 1, 1, 0, 1, 0, 0, 0, 1, 6, 0, 1, 0, 3, 0, 0, 4, 0, 2, 1, 4, 0, 0, 4, 1, 4, 0, 4, 0, 0, 1, 3, 1, 2, 1, 0, 1, 0, 0, 3, 2, 1, 0, 1, 0, 0, 3], [1, 0, 0, 2, 0, 3, -2, 3, 1, 0, 3, 3, 1, -2, 0, -1, 0, 5, 1, 3, 0, 3, 2, 0, -5, 1, 3, -1, 2, 1, 0, 2, 1, -2, 0, 2, 2, 1, 3, 1, 1, 5, 2, 1, 0, 2, 3, 8, 3, -3, 3, 0, 1, 0, 6, 6, 0, 0, 0, 9, 1, 5, 5, -2, 1, 0, 0, 2, 5, 2, 6, 2, 0, -2, 4, -6, 2, -1, 3, 0, 0, 6, -1, 1, 2, 2, 0, -1, 2, 1, 0, 2, 0, 0, 1, 0, 5, 2, -4, 6, 0, 7, 7, 3, 6, 5, 5, 0, 2, 5, 6, 5, 4, 11, 0, 3, 9, 4, 4, 3, 2, 0, 3, 3, 1, 1, 2, 3, 0, 5, 7, 9, 4, 6, 4, 0, 2, 3, 1, 2, 1, 0, 1, 2, 3, 2, 2, 8, 7, 2, 1, 5, 3, 0, 1, 3, 1, 6, 12, 4, 4, 3, 5, 0, 6, 5, 4, 0, 2, 6, 0, 3, 0, 0, 3, 2, 0, 0, 6, 6, 2, 3, 1, 1, 0, 0, 1, 1, 3, 0, 1, 0, 1, 2, 0, 1, 3, 4, 1, 3, 10, 4, 3, 2, 1, 0, 1, 0, 0, 3], [0, 4, 0, 2, 0, 5, 7, 2, 11, 1, 2, 2, 1, 5, 1, 10, 2, 1, 7, 4, 3, 6, 1, 0, 13, 0, 2, 5, 0, 16, 0, 6, 4, 7, 4, 3, 6, -1, 0, 9, 0, -4, 3, 9, 0, 1, 1, 1, 7, 8, 1, 0, 10, 7, 4, -4, 6, 4, 0, -5, 11, 6, 3, 8, 7, 0, 7, 6, 0, 2, 3, 3, 0, 8, 10, 13, 1, 9, 5, 1, 3, -3, 2, 1, -2, -1, 0, 4, 0, 0, 0, 4, 6, 0, 2, 7, -2, 1, 4, -4, 1, -5, -2, 0, -2, -1, 1, 0, 2, 5, -1, 0, 1, -9, 0, 0, -4, 1, -1, 0, 6, 0, 4, 3, 1, 1, 3, -3, 0, -5, -5, -8, -3, -6, 3, 0, 0, -2, 1, 1, -1, 2, -1, -1, 5, -2, 0, -7, -4, -2, -1, 0, -1, 0, -1, -1, -1, -5, -6, 0, -3, -3, -2, 0, -5, -4, -4, 1, -2, -6, 0, -2, 6, 0, -2, -2, 3, 0, -6, -2, -2, -1, 0, 3, 0, 0, 3, 0, 1, 0, 3, 0, -1, -1, 3, 0, -1, -3, -1, -2, -10, -4, 0, 0, 0, 0, 0, 0, 0, 0]]}], \"label\": \"Loire\", \"method\": \"restyle\"}, {\"args\": [{\"y\": [[0, 1, 2, 0, 0, 0, 0, 0, 0, 0, 0, 1, 0, 0, 1, 0, 0, 0, 0, 0, 0, 0, 0, 0, 0, 0, 0, 0, 0, 0], [0, 0, 0, 0, 0, 1, 0, 0, 0, 0, 0, 0, 0, 0, 0, 0, 0, 0, 0, 0, 1, 2, 1, 0, 0, 0, 0, 0, 1, 0], [0, 1, 2, 0, 0, -1, 0, 0, 0, 0, 0, 1, 0, 0, 1, 0, 0, 0, 0, 0, -1, -2, -1, 0, 0, 0, 0, 0, -1, 0]]}], \"label\": \"Haute-Loire\", \"method\": \"restyle\"}, {\"args\": [{\"y\": [[4, 5, 6, 8, 8, 3, 3, 11, 4, 7, 6, 3, 3, 3, 2, 4, 3, 7, 0, 2, 1, 0, 1, 1, 1, 0, 0, 0, 1, 1], [2, 3, 5, -5, 2, 3, 2, 1, 9, 0, -2, 0, -1, 1, 7, 2, 3, 3, 5, 2, 2, 1, 6, 6, 3, 6, 0, 1, 3, 1], [2, 2, 1, 13, 6, 0, 1, 10, -5, 7, 8, 3, 4, 2, -5, 2, 0, 4, -5, 0, -1, -1, -5, -5, -2, -6, 0, -1, -2, 0]]}], \"label\": \"Loire-Atlantique\", \"method\": \"restyle\"}, {\"args\": [{\"y\": [[0, 5, 8, 1, 5, 10, 4, 7, 12, 8, 14, 3, 2, 7, 5, 10, 5, 6, 2, 1, 8, 5, 6, 1, 6, 4, 4, 1, 0, 0], [0, 3, 1, 1, 1, 1, 3, 0, 1, 2, 4, 6, 2, 0, 7, 5, 9, 3, 7, 3, 3, 5, 12, 5, 0, 6, 1, 2, 10, 0], [0, 2, 7, 0, 4, 9, 1, 7, 11, 6, 10, -3, 0, 7, -2, 5, -4, 3, -5, -2, 5, 0, -6, -4, 6, -2, 3, -1, -10, 0]]}], \"label\": \"Loiret\", \"method\": \"restyle\"}, {\"args\": [{\"y\": [[0, 0, 1, 0, 0, 2, 0, 2, 1, 3, 1, 0, 0, 1, 0, 0, 1, 0, 4, 1, 0, 0, 0, 0, 0, 0, 1, 0, 0, 0, 1, 0, 0, 0, 0, 0, 2, 0, 0, 0, 0, 0, 0, 0, 0, 0, 0, 0, 0, 0, 0, 0, 0, 0, 1, 0, 2, 0, 2, 0], [0, 2, 0, 1, 0, 0, 0, 0, 1, 0, 0, 0, 0, 2, 0, 1, 0, 0, 1, 0, 2, 0, 0, 0, -1, 0, -2, 0, 0, 0, 0, 0, 0, 0, 1, 1, 0, 0, 0, 0, 0, 0, 1, 0, 1, 1, 0, 0, 1, 1, 0, 0, 0, 0, 0, 0, 1, 0, 2, 0], [0, -2, 1, -1, 0, 2, 0, 2, 0, 3, 1, 0, 0, -1, 0, -1, 1, 0, 3, 1, -2, 0, 0, 0, 1, 0, 3, 0, 0, 0, 1, 0, 0, 0, -1, -1, 2, 0, 0, 0, 0, 0, -1, 0, -1, -1, 0, 0, -1, -1, 0, 0, 0, 0, 1, 0, 1, 0, 0, 0]]}], \"label\": \"Lot\", \"method\": \"restyle\"}, {\"args\": [{\"y\": [[0, 0, 2, 2, 3, 0, 1, 0, 0, 1, 0, 0, 0, 0, 0, 0, 0, 0, 0, 0, 0, 0, 0, 0, 0, 0, 0, 0, 0, 0], [2, 1, 0, 0, 0, 0, 2, 1, 0, 0, 0, 0, 0, 0, 0, 0, 0, 1, 0, 0, 0, 0, 1, 0, 1, 0, 0, 0, 0, 0], [-2, -1, 2, 2, 3, 0, -1, -1, 0, 1, 0, 0, 0, 0, 0, 0, 0, -1, 0, 0, 0, 0, -1, 0, -1, 0, 0, 0, 0, 0]]}], \"label\": \"Lot-et-Garonne\", \"method\": \"restyle\"}, {\"args\": [{\"y\": [[2, 0, 0, 0, 0, 0, 0, 0, 0, 0, 0, 0, 0, 0, 0, 0, 0, 0, 0, 0, 0, 0, 0, 0, 0, 0, 0, 0, 0, 0], [0, 0, 0, 0, 0, 0, 0, 0, 0, 1, 0, 0, 0, 0, 0, 0, 0, 0, 0, 0, 0, 0, 0, 0, 0, 0, 0, 0, 0, 0], [2, 0, 0, 0, 0, 0, 0, 0, 0, -1, 0, 0, 0, 0, 0, 0, 0, 0, 0, 0, 0, 0, 0, 0, 0, 0, 0, 0, 0, 0]]}], \"label\": \"Loz\\u00e8re\", \"method\": \"restyle\"}, {\"args\": [{\"y\": [[8, 2, 7, 5, 5, 1, 9, 10, 11, 5, 7, 1, 1, 3, 3, 5, 5, 2, 1, 2, 0, 2, 4, 0, 0, 0, 1, 3, 0, 0], [3, 1, 3, 3, -2, 1, 8, 6, 5, 5, -6, -1, 1, 5, 3, 6, 4, 1, 9, 1, 2, 3, 4, 4, 0, 2, 1, 0, 4, 0], [5, 1, 4, 2, 7, 0, 1, 4, 6, 0, 13, 2, 0, -2, 0, -1, 1, 1, -8, 1, -2, -1, 0, -4, 0, -2, 0, 3, -4, 0]]}], \"label\": \"Maine-et-Loire\", \"method\": \"restyle\"}, {\"args\": [{\"y\": [[1, 0, 1, 1, 4, 1, 3, 1, 3, 2, 1, 1, 1, 1, 1, 0, 0, 1, 0, 0, 0, 0, 2, 1, 0, 1, 2, 2, 0, 0], [2, 1, 0, 0, 0, -1, 1, 0, 0, 0, 1, 1, -2, 1, 2, 0, 0, 1, 2, 1, 0, 0, 3, 0, 5, 1, 1, 0, 0, 0], [-1, -1, 1, 1, 4, 2, 2, 1, 3, 2, 0, 0, 3, 0, -1, 0, 0, 0, -2, -1, 0, 0, -1, 1, -5, 0, 1, 2, 0, 0]]}], \"label\": \"Manche\", \"method\": \"restyle\"}, {\"args\": [{\"y\": [[5, 1, 18, 31, 10, 1, 18, 35, 4, 2, 26, 14, 5, 1, 22, 12, 13, 1, 13, 25, 3, 0, 5, 13, 14, 0, 24, 14, 4, 2, 24, 23, 5, 0, 22, 58, 5, 0, 27, 33, 5, 1, 20, 48, 4, 3, 16, 20, 0, 3, 9, 19, 1, 4, 19, 26, 7, 2, 19, 41, 2, 1, 15, 48, 3, 0, 12, 22, 2, 3, 15, 21, 5, 2, 5, 13, 4, 0, 8, 21, 0, 0, 8, 20, 1, 1, 15, 37, 6, 1, 6, 23, 0, 2, 7, 26, 3, 1, 7, 20, 3, 5, 6, 17, 1, 0, 2, 7, 2, 2, 7, 14, 1, 0, 4, 10, 1, 0, 4, 10], [0, -2, 6, 9, 2, 0, 6, 15, 1, 0, 6, 7, 2, 0, 10, 6, 8, 0, 7, 9, 2, 0, 8, 10, 5, 0, -1, 5, 5, 0, 15, 20, 5, 1, 9, 6, 1, 0, 17, 23, 2, -2, 7, 16, 1, 2, 21, 12, 0, 1, 0, 20, 5, 4, 17, 24, 3, 3, 16, 31, 10, 2, 9, 15, 4, 0, 9, 19, 4, 0, 8, 31, 7, 3, 9, 25, 1, 0, 5, 20, 1, 0, 9, 14, 3, 0, 12, 17, 7, 1, 22, 22, 4, 2, 19, 43, 3, 1, 9, 13, 8, 1, 10, 15, 0, 0, 7, 10, 2, 2, 20, 13, 4, 1, 10, 21, 1, 0, 4, 10], [5, 3, 12, 22, 8, 1, 12, 20, 3, 2, 20, 7, 3, 1, 12, 6, 5, 1, 6, 16, 1, 0, -3, 3, 9, 0, 25, 9, -1, 2, 9, 3, 0, -1, 13, 52, 4, 0, 10, 10, 3, 3, 13, 32, 3, 1, -5, 8, 0, 2, 9, -1, -4, 0, 2, 2, 4, -1, 3, 10, -8, -1, 6, 33, -1, 0, 3, 3, -2, 3, 7, -10, -2, -1, -4, -12, 3, 0, 3, 1, -1, 0, -1, 6, -2, 1, 3, 20, -1, 0, -16, 1, -4, 0, -12, -17, 0, 0, -2, 7, -5, 4, -4, 2, 1, 0, -5, -3, 0, 0, -13, 1, -3, -1, -6, -11, 0, 0, 0, 0]]}], \"label\": \"Marne\", \"method\": \"restyle\"}, {\"args\": [{\"y\": [[1, 1, 2, 1, 1, 0, 0, 2, 0, 0, 1, 3, 3, 4, 2, 1, 0, 3, 2, 0, 0, 1, 1, 2, 1, 5, 0, 2, 0, 0], [-2, 0, 0, 0, 0, 0, 0, 0, 1, 0, -2, 2, 1, 4, 3, 2, 0, 0, 3, 0, 0, 0, 1, 2, 1, 1, 0, 2, 1, 0], [3, 1, 2, 1, 1, 0, 0, 2, -1, 0, 3, 1, 2, 0, -1, -1, 0, 3, -1, 0, 0, 1, 0, 0, 0, 4, 0, 0, -1, 0]]}], \"label\": \"Haute-Marne\", \"method\": \"restyle\"}, {\"args\": [{\"y\": [[1, 2, 1, 1, 1, 1, 1, 3, 1, 1, 2, 1, 0, 0, 0, 2, 0, 0, 0, 0, 1, 0, 0, 0, 0, 1, 0, 1, 0, 0], [1, 0, 0, 0, 1, 0, 0, 2, 1, 0, 0, -1, 0, 0, 0, 1, 1, 0, 3, 0, 1, 0, 1, 0, 0, 0, 1, 1, 0, 0], [0, 2, 1, 1, 0, 1, 1, 1, 0, 1, 2, 2, 0, 0, 0, 1, -1, 0, -3, 0, 0, 0, -1, 0, 0, 1, -1, 0, 0, 0]]}], \"label\": \"Mayenne\", \"method\": \"restyle\"}, {\"args\": [{\"y\": [[20, 9, 5, 19, 33, 4, 17, 10, 23, 27, 16, 9, 4, 12, 7, 4, 6, 5, 0, 5, 6, 6, 1, 2, 1, 3, 2, 2, 3, 3], [-4, 5, -5, 3, 11, 3, 3, 6, 17, 17, 2, 11, 7, 16, 5, 14, 9, 14, 1, 9, 3, 8, 10, 9, 5, 12, 8, 1, 1, 3], [24, 4, 10, 16, 22, 1, 14, 4, 6, 10, 14, -2, -3, -4, 2, -10, -3, -9, -1, -4, 3, -2, -9, -7, -4, -9, -6, 1, 2, 0]]}], \"label\": \"Meurthe-et-Moselle\", \"method\": \"restyle\"}, {\"args\": [{\"y\": [[2, 2, 2, 2, 0, 0, 4, 1, 2, 3, 5, 3, 0, 2, 1, 1, 1, 2, 0, 0, 0, 3, 1, 2, 0, 2, 0, 0, 0, 0], [2, 0, 1, -1, 0, 0, 2, 0, -1, 1, 6, 2, 0, 0, 1, 1, 1, 1, 3, 1, 0, 1, 4, 0, 3, 2, 0, 1, 2, 0], [0, 2, 1, 3, 0, 0, 2, 1, 3, 2, -1, 1, 0, 2, 0, 0, 0, 1, -3, -1, 0, 2, -3, 2, -3, 0, 0, -1, -2, 0]]}], \"label\": \"Meuse\", \"method\": \"restyle\"}, {\"args\": [{\"y\": [[1, 0, 5, 3, 6, 1, 3, 3, 6, 3, 5, 3, 1, 1, 2, 1, 1, 2, 4, 2, 2, 2, 0, 0, 0, 1, 0, 0, 1, 1], [1, 1, 0, 2, 0, 0, 0, 2, 4, 5, 6, 8, 1, -10, 3, 1, 2, 1, 3, 3, 1, 3, 3, 1, 2, 3, 1, 0, 4, 1], [0, -1, 5, 1, 6, 1, 3, 1, 2, -2, -1, -5, 0, 11, -1, 0, -1, 1, 1, -1, 1, -1, -3, -1, -2, -2, -1, 0, -3, 0]]}], \"label\": \"Morbihan\", \"method\": \"restyle\"}, {\"args\": [{\"y\": [[20, 26, 9, 19, 5, 12, 19, 14, 33, 25, 4, 22, 17, 23, 10, 20, 23, 16, 27, 18, 16, 15, 9, 13, 4, 12, 12, 20, 7, 11, 4, 9, 6, 8, 5, 1, 0, 7, 5, 3, 6, 11, 6, 4, 1, 8, 2, 4, 1, 8, 3, 7, 2, 3, 2, 2, 3, 4, 3, 4], [-4, 8, 5, 5, -5, 7, 3, 7, 11, 7, 3, 6, 3, 14, 6, 10, 17, 15, 17, 24, 2, 22, 11, 14, 7, 11, 16, 15, 5, 11, 14, 15, 9, 9, 14, 7, 1, 7, 9, 4, 3, 6, 8, 6, 10, 11, 9, 9, 5, 7, 12, 12, 8, 5, 1, 7, 1, 7, 3, 4], [24, 18, 4, 14, 10, 5, 16, 7, 22, 18, 1, 16, 14, 9, 4, 10, 6, 1, 10, -6, 14, -7, -2, -1, -3, 1, -4, 5, 2, 0, -10, -6, -3, -1, -9, -6, -1, 0, -4, -1, 3, 5, -2, -2, -9, -3, -7, -5, -4, 1, -9, -5, -6, -2, 1, -5, 2, -3, 0, 0]]}], \"label\": \"Moselle\", \"method\": \"restyle\"}, {\"args\": [{\"y\": [[0, 0, 0, 1, 1, 0, 0, 1, 1, 0, 0, 0, 3, 0, 0, 1, 0, 2, 0, 1, 2, 0, 1, 1, 0, 2, 1, 0, 2, 2], [0, 0, 0, 0, 0, -2, -1, 0, 0, 2, 0, -1, 0, 1, 1, 1, 1, 0, 0, 1, 1, 1, 0, 1, 1, 1, 1, 1, 3, 2], [0, 0, 0, 1, 1, 2, 1, 1, 1, -2, 0, 1, 3, -1, -1, 0, -1, 2, 0, 0, 1, -1, 1, 0, -1, 1, 0, -1, -1, 0]]}], \"label\": \"Ni\\u00e8vre\", \"method\": \"restyle\"}, {\"args\": [{\"y\": [[15, 20, 17, 34, 17, 24, 26, 39, 21, 39, 23, 20, 19, 17, 18, 7, 14, 16, 9, 2, 9, 5, 5, 8, 14, 4, 10, 3, 10, 10], [7, 3, 4, 11, 3, 10, 3, 9, 10, 21, 14, 10, 11, 19, 3, 13, 19, 14, 12, 3, 9, 13, 12, 21, 14, 8, 13, 6, 21, 10], [8, 17, 13, 23, 14, 14, 23, 30, 11, 18, 9, 10, 8, -2, 15, -6, -5, 2, -3, -1, 0, -8, -7, -13, 0, -4, -3, -3, -11, 0]]}], \"label\": \"Nord\", \"method\": \"restyle\"}, {\"args\": [{\"y\": [[4, 18, 9, 11, 7, 5, 10, 13, 0, 7, 2, 11, 5, 13, 5, 14, 9, 7, 11, 13, 5, 13, 1, 12, 2, 6, 0, 12, 9, 17, 7, 10, 3, 26, 5, 8, 2, 13, 4, 10, 0, 4, 3, 7, 3, 6, 3, 5, 3, 4, 2, 5, 3, 4, 1, 6, 2, 4, 2, 4], [0, 2, 1, -1, 5, 4, 3, 10, 3, 5, 2, -5, 2, 7, 1, 6, 5, 2, -2, 9, 6, 16, 2, 3, 0, 0, 1, 13, 10, 9, 8, 16, 3, 5, 5, 17, 1, 17, 2, 6, 1, 5, 5, 5, 6, 6, 3, 12, 4, 9, 3, 10, 4, 11, 5, 14, 4, 9, 2, 4], [4, 16, 8, 12, 2, 1, 7, 3, -3, 2, 0, 16, 3, 6, 4, 8, 4, 5, 13, 4, -1, -3, -1, 9, 2, 6, -1, -1, -1, 8, -1, -6, 0, 21, 0, -9, 1, -4, 2, 4, -1, -1, -2, 2, -3, 0, 0, -7, -1, -5, -1, -5, -1, -7, -4, -8, -2, -5, 0, 0]]}], \"label\": \"Oise\", \"method\": \"restyle\"}, {\"args\": [{\"y\": [[0, 2, 1, 1, 0, 0, 1, 2, 0, 2, 1, 3, 2, 0, 0, 0, 0, 0, 1, 1, 1, 0, 1, 0, 1, 0, 0, 0, 1, 1], [0, 0, 0, 1, 0, 0, 0, 2, 0, 0, 0, -1, 1, -1, 0, 1, 0, 1, 1, 0, 1, 1, 1, 2, -1, 0, 0, 0, 1, 1], [0, 2, 1, 0, 0, 0, 1, 0, 0, 2, 1, 4, 1, 1, 0, -1, 0, -1, 0, 1, 0, -1, 0, -2, 2, 0, 0, 0, 0, 0]]}], \"label\": \"Orne\", \"method\": \"restyle\"}, {\"args\": [{\"y\": [[10, 9, 5, 3, 12, 4, 19, 7, 11, 9, 18, 9, 4, 6, 12, 7, 7, 5, 3, 2, 3, 9, 17, 6, 4, 4, 1, 6, 3, 3], [4, 3, 2, 2, 2, 0, 2, -2, 2, 3, 1, 3, 4, 5, 12, 11, 0, 27, 9, 5, 6, 4, 10, 17, 9, 10, 1, 2, 4, 3], [6, 6, 3, 1, 10, 4, 17, 9, 9, 6, 17, 6, 0, 1, 0, -4, 7, -22, -6, -3, -3, 5, 7, -11, -5, -6, 0, 4, -1, 0]]}], \"label\": \"Pas-de-Calais\", \"method\": \"restyle\"}, {\"args\": [{\"y\": [[5, 1, 1, 2, 5, 10, 12, 2, 1, 5, 3, 2, 10, 0, 2, 0, 1, 0, 0, 0, 0, 1, 0, 1, 0, 1, 0, 0, 2, 2], [4, 1, 1, 1, 2, -3, 2, 2, 1, 3, 5, 0, 2, 2, 2, 2, 2, 2, 7, 0, 0, 1, 1, 1, 0, 5, 0, 0, 2, 2], [1, 0, 0, 1, 3, 13, 10, 0, 0, 2, -2, 2, 8, -2, 0, -2, -1, -2, -7, 0, 0, 0, -1, 0, 0, -4, 0, 0, 0, 0]]}], \"label\": \"Puy-de-D\\u00f4me\", \"method\": \"restyle\"}, {\"args\": [{\"y\": [[5, 3, 2, 4, 2, 4, 2, 8, 1, 5, 1, 1, 0, 0, 1, 2, 1, 1, 0, 0, 0, 0, 1, 0, 0, 0, 0, 0, 0, 0], [1, 1, 0, 2, 3, 1, 0, -3, 0, 3, 0, 2, 0, 2, 0, 2, 1, 1, 1, 1, 2, 1, 1, 2, 2, 6, 0, 0, 0, 0], [4, 2, 2, 2, -1, 3, 2, 11, 1, 2, 1, -1, 0, -2, 1, 0, 0, 0, -1, -1, -2, -1, 0, -2, -2, -6, 0, 0, 0, 0]]}], \"label\": \"Pyr\\u00e9n\\u00e9es-Atlantiques\", \"method\": \"restyle\"}, {\"args\": [{\"y\": [[0, 1, 0, 1, 2, 0, 2, 0, 0, 0, 0, 0, 3, 0, 0, 1, 0, 0, 0, 1, 0, 0, 0, 0, 0, 0, 0, 0, 0, 0], [0, 0, 0, 0, 0, 0, 0, 0, 0, 1, 0, 1, 1, 0, 1, 0, 0, 1, 1, 0, 1, 0, 0, 0, 1, 0, 0, 0, 0, 0], [0, 1, 0, 1, 2, 0, 2, 0, 0, -1, 0, -1, 2, 0, -1, 1, 0, -1, -1, 1, -1, 0, 0, 0, -1, 0, 0, 0, 0, 0]]}], \"label\": \"Hautes-Pyr\\u00e9n\\u00e9es\", \"method\": \"restyle\"}, {\"args\": [{\"y\": [[6, 4, 7, 2, 4, 3, 7, 4, 4, 0, 2, 3, 0, 1, 4, 1, 1, 4, 0, 0, 0, 0, 1, 0, 0, 0, 1, 0, 1, 1], [0, 2, 2, 5, 2, 4, 3, 6, 4, 1, 2, 1, 5, 0, 1, 5, 0, 3, 4, 2, 1, 5, 5, 0, 2, 1, 0, 2, 1, 1], [6, 2, 5, -3, 2, -1, 4, -2, 0, -1, 0, 2, -5, 1, 3, -4, 1, 1, -4, -2, -1, -5, -4, 0, -2, -1, 1, -2, 0, 0]]}], \"label\": \"Pyr\\u00e9n\\u00e9es-Orientales\", \"method\": \"restyle\"}, {\"args\": [{\"y\": [[29, 25, 29, 35, 19, 19, 23, 38, 34, 22, 31, 24, 12, 9, 12, 20, 8, 13, 2, 7, 0, 6, 3, 12, 11, 4, 3, 4, 3, 3], [5, 4, 9, 16, 18, 8, 9, 33, 21, 17, 20, 30, 21, 10, 14, 11, 14, 15, 7, 7, 5, 12, 19, 22, 23, 10, 4, 2, 8, 3], [24, 21, 20, 19, 1, 11, 14, 5, 13, 5, 11, -6, -9, -1, -2, 9, -6, -2, -5, 0, -5, -6, -16, -10, -12, -6, -1, 2, -5, 0]]}], \"label\": \"Bas-Rhin\", \"method\": \"restyle\"}, {\"args\": [{\"y\": [[12, 19, 24, 16, 12, 14, 22, 30, 15, 16, 22, 5, 9, 16, 15, 17, 8, 3, 11, 5, 4, 10, 6, 8, 4, 4, 1, 8, 4, 4], [15, 10, 11, 7, 9, 9, 19, 13, 14, 12, 20, 18, 9, 25, 6, 15, 17, 14, 4, 2, 6, 10, 13, 6, 5, 12, 8, 5, 10, 4], [-3, 9, 13, 9, 3, 5, 3, 17, 1, 4, 2, -13, 0, -9, 9, 2, -9, -11, 7, 3, -2, 0, -7, 2, -1, -8, -7, 3, -6, 0]]}], \"label\": \"Haut-Rhin\", \"method\": \"restyle\"}, {\"args\": [{\"y\": [[20, 22, 5, 43, 22, 20, 16, 37, 16, 65, 27, 36, 34, 50, 22, 29, 29, 34, 20, 22, 29, 24, 15, 26, 10, 33, 17, 12, 10, 16, 19, 15, 11, 12, 30, 10, 9, 15, 9, 4, 8, 9, 12, 7, 15, 14, 16, 14, 13, 8, 9, 9, 7, 6, 21, 7, 7, 10, 7, 10], [2, 6, 5, 14, 7, 22, 3, 12, 2, 16, 2, 17, -1, 22, 13, 17, 13, 17, 13, 22, 9, 12, 9, 12, 1, 19, 14, 21, 15, 38, 15, 17, 16, 20, 11, 15, 12, 20, 5, 7, 6, 7, 21, 8, 21, 18, 18, 15, 20, 19, 21, 17, 23, 6, 11, 3, 24, 22, 7, 10], [18, 16, 0, 29, 15, -2, 13, 25, 14, 49, 25, 19, 35, 28, 9, 12, 16, 17, 7, 0, 20, 12, 6, 14, 9, 14, 3, -9, -5, -22, 4, -2, -5, -8, 19, -5, -3, -5, 4, -3, 2, 2, -9, -1, -6, -4, -2, -1, -7, -11, -12, -8, -16, 0, 10, 4, -17, -12, 0, 0]]}], \"label\": \"Rh\\u00f4ne\", \"method\": \"restyle\"}, {\"args\": [{\"y\": [[7, 7, 4, 2, 1, 0, 2, 6, 2, 1, 0, 2, 2, 0, 1, 1, 0, 0, 0, 0, 1, 2, 0, 0, 1, 0, 0, 2, 0, 0], [0, 2, 0, 1, 3, 3, 4, 7, 1, 2, 1, 0, 1, 1, 0, 0, 0, 1, 0, 0, 1, 1, 2, 0, 0, 0, 0, 0, 1, 0], [7, 5, 4, 1, -2, -3, -2, -1, 1, -1, -1, 2, 1, -1, 1, 1, 0, -1, 0, 0, 0, 1, -2, 0, 1, 0, 0, 2, -1, 0]]}], \"label\": \"Haute-Sa\\u00f4ne\", \"method\": \"restyle\"}, {\"args\": [{\"y\": [[5, 3, 3, 4, 4, 1, 10, 2, 8, 4, 3, 2, 0, 3, 4, 5, 3, 2, 1, 3, 2, 0, 1, 1, 1, 2, 4, 1, 3, 3], [-2, -2, 0, -1, 0, 5, 3, 6, 5, 2, 2, 1, 0, 2, 6, 5, 4, 1, 4, 2, 2, 0, 4, 0, 3, 3, 3, 1, 3, 3], [7, 5, 3, 5, 4, -4, 7, -4, 3, 2, 1, 1, 0, 1, -2, 0, -1, 1, -3, 1, 0, 0, -3, 1, -2, -1, 1, 0, 0, 0]]}], \"label\": \"Sa\\u00f4ne-et-Loire\", \"method\": \"restyle\"}, {\"args\": [{\"y\": [[1, 1, 4, 6, 7, 1, 7, 2, 3, 1, 2, 0, 2, 0, 3, 1, 0, 1, 4, 1, 0, 2, 0, 0, 0, 3, 0, 0, 0, 0], [0, 1, 2, -1, 2, 1, 1, 1, 4, 2, -1, 2, 1, 0, 4, 0, 4, 0, 3, 0, 1, 3, 3, 1, 2, 1, 3, 0, 1, 0], [1, 0, 2, 7, 5, 0, 6, 1, -1, -1, 3, -2, 1, 0, -1, 1, -4, 1, 1, 1, -1, -1, -3, -1, -2, 2, -3, 0, -1, 0]]}], \"label\": \"Sarthe\", \"method\": \"restyle\"}, {\"args\": [{\"y\": [[0, 7, 2, 6, 7, 7, 2, 7, 2, 5, 1, 12, 7, 10, 6, 9, 3, 11, 4, 8, 2, 5, 0, 3, 0, 10, 2, 5, 2, 7, 0, 3, 2, 3, 0, 1, 0, 2, 1, 0, 2, 2, 0, 0, 4, 1, 1, 3, 0, 1, 1, 2, 0, 0, 3, 1, 1, 4, 1, 4], [0, 2, -1, 0, 1, 1, 0, 4, 1, 1, 0, 2, 0, 4, 0, 1, 1, 4, 0, 2, 2, 2, 0, 2, 1, 1, 3, 4, 4, 14, 1, 10, 6, 5, 4, 4, 0, 3, 0, 2, 1, 3, 5, 2, 1, 10, 3, 3, 2, 4, 2, 6, 1, 0, 2, 5, 6, 6, 1, 4], [0, 5, 3, 6, 6, 6, 2, 3, 1, 4, 1, 10, 7, 6, 6, 8, 2, 7, 4, 6, 0, 3, 0, 1, -1, 9, -1, 1, -2, -7, -1, -7, -4, -2, -4, -3, 0, -1, 1, -2, 1, -1, -5, -2, 3, -9, -2, 0, -2, -3, -1, -4, -1, 0, 1, -4, -5, -2, 0, 0]]}], \"label\": \"Savoie\", \"method\": \"restyle\"}, {\"args\": [{\"y\": [[7, 6, 7, 7, 5, 12, 10, 9, 11, 8, 5, 3, 10, 5, 7, 3, 3, 1, 2, 0, 2, 0, 1, 3, 1, 2, 0, 1, 4, 4], [2, 0, 1, 4, 1, 2, 4, 1, 4, 2, 2, 2, 1, 4, 14, 10, 5, 4, 3, 2, 3, 2, 10, 3, 4, 6, 0, 5, 6, 4], [5, 6, 6, 3, 4, 10, 6, 8, 7, 6, 3, 1, 9, 1, -7, -7, -2, -3, -1, -2, -1, -2, -9, 0, -3, -4, 0, -4, -2, 0]]}], \"label\": \"Haute-Savoie\", \"method\": \"restyle\"}, {\"args\": [{\"y\": [[73, 72, 73, 80, 83, 72, 56, 94, 92, 98, 67, 78, 59, 69, 61, 61, 45, 69, 31, 45, 31, 34, 40, 26, 36, 32, 10, 15, 27, 27], [12, 28, 26, 14, 6, 20, 29, 28, 35, 36, 66, 52, 30, 69, 50, 55, 69, 59, 61, 49, 42, 40, 80, 49, 66, 44, 34, 34, 55, 27], [61, 44, 47, 66, 77, 52, 27, 66, 57, 62, 1, 26, 29, 0, 11, 6, -24, 10, -30, -4, -11, -6, -40, -23, -30, -12, -24, -19, -28, 0]]}], \"label\": \"Paris\", \"method\": \"restyle\"}, {\"args\": [{\"y\": [[6, 11, 18, 14, 15, 13, 12, 20, 9, 15, 9, 8, 5, 6, 7, 4, 7, 6, 5, 1, 6, 3, 0, 3, 5, 2, 5, 3, 1, 1], [2, 2, 6, 3, 7, 8, 2, 4, 10, 3, 1, 4, 4, 5, 5, 7, 9, 10, 7, 12, 1, 8, 6, 2, 12, 6, 5, 9, 4, 1], [4, 9, 12, 11, 8, 5, 10, 16, -1, 12, 8, 4, 1, 1, 2, -3, -2, -4, -2, -11, 5, -5, -6, 1, -7, -4, 0, -6, -3, 0]]}], \"label\": \"Seine-Maritime\", \"method\": \"restyle\"}, {\"args\": [{\"y\": [[18, 18, 26, 22, 13, 5, 24, 24, 22, 27, 20, 16, 9, 19, 19, 15, 12, 15, 5, 8, 8, 15, 6, 7, 7, 6, 2, 7, 4, 4], [6, 6, 6, 10, 7, 8, -1, 15, 9, 17, 7, 21, 0, 17, 16, 9, 9, 8, 9, 5, 9, 12, 22, 19, 9, 10, 7, 20, 10, 4], [12, 12, 20, 12, 6, -3, 25, 9, 13, 10, 13, -5, 9, 2, 3, 6, 3, 7, -4, 3, -1, 3, -16, -12, -2, -4, -5, -13, -6, 0]]}], \"label\": \"Seine-et-Marne\", \"method\": \"restyle\"}, {\"args\": [{\"y\": [[26, 16, 16, 9, 20, 8, 19, 24, 20, 15, 15, 11, 0, 8, 10, 12, 5, 13, 3, 5, 2, 3, 2, 2, 2, 5, 3, 5, 10, 10], [3, 1, 3, 9, 1, 2, 7, 3, 0, 13, 10, 7, 4, 9, 5, 8, 12, 8, 4, 7, 7, 3, 10, 14, 11, 19, 4, 8, 10, 10], [23, 15, 13, 0, 19, 6, 12, 21, 20, 2, 5, 4, -4, -1, 5, 4, -7, 5, -1, -2, -5, 0, -8, -12, -9, -14, -1, -3, 0, 0]]}], \"label\": \"Yvelines\", \"method\": \"restyle\"}, {\"args\": [{\"y\": [[0, 0, 0, 0, 0, 3, 0, 2, 0, 1, 1, 0, 0, 0, 0, 1, 1, 3, 0, 0, 1, 0, 0, 0, 0, 0, 0, 0, 0, 0], [0, 0, 0, 0, 0, 0, 1, -1, 0, 1, 0, -2, 0, 0, 1, 0, 0, 1, 4, 1, 1, 0, 0, 0, 1, 1, 0, 0, 0, 0], [0, 0, 0, 0, 0, 3, -1, 3, 0, 0, 1, 2, 0, 0, -1, 1, 1, 2, -4, -1, 0, 0, 0, 0, -1, -1, 0, 0, 0, 0]]}], \"label\": \"Deux-S\\u00e8vres\", \"method\": \"restyle\"}, {\"args\": [{\"y\": [[3, 5, 6, 1, 7, 6, 9, 10, 3, 4, 4, 10, 6, 5, 4, 5, 7, 4, 6, 0, 2, 3, 1, 1, 0, 2, 1, 0, 1, 1], [4, 2, 3, 1, 0, 5, 0, 6, 2, -1, 1, 12, 3, 6, 1, 8, 2, 5, 11, 0, 4, 4, 5, 5, 2, 6, 1, 2, 5, 1], [-1, 3, 3, 0, 7, 1, 9, 4, 1, 5, 3, -2, 3, -1, 3, -3, 5, -1, -5, 0, -2, -1, -4, -4, -2, -4, 0, -2, -4, 0]]}], \"label\": \"Somme\", \"method\": \"restyle\"}, {\"args\": [{\"y\": [[0, 0, 3, 0, 3, 0, 2, 0, 2, 0, 4, 0, 1, 3, 1, 0, 3, 1, 5, 2, 0, 1, 1, 0, 2, 2, 2, 1, 4, 0, 1, 2, 1, 0, 1, 0, 0, 0, 0, 0, 1, 0, 1, 1, 0, 1, 0, 1, 0, 0, 0, 0, 0, 1, 0, 1, 1, 0, 1, 0], [0, 0, -1, 0, 0, -1, 0, 0, 1, 0, 0, 0, 1, 0, 0, 0, 2, 1, 0, 1, 1, 1, 1, -1, 1, 2, 2, -2, 1, 1, 6, 0, 1, 0, 3, 1, 1, 0, 0, 0, 1, 0, 1, 2, 1, 2, 2, 1, 1, 0, 0, 0, 0, 0, 4, 2, 1, 0, 1, 0], [0, 0, 4, 0, 3, 1, 2, 0, 1, 0, 4, 0, 0, 3, 1, 0, 1, 0, 5, 1, -1, 0, 0, 1, 1, 0, 0, 3, 3, -1, -5, 2, 0, 0, -2, -1, -1, 0, 0, 0, 0, 0, 0, -1, -1, -1, -2, 0, -1, 0, 0, 0, 0, 1, -4, -1, 0, 0, 0, 0]]}], \"label\": \"Tarn\", \"method\": \"restyle\"}, {\"args\": [{\"y\": [[0, 0, 0, 0, 0, 0, 3, 0, 1, 2, 1, 0, 2, 1, 0, 2, 0, 0, 0, 0, 0, 1, 1, 1, 0, 0, 1, 1, 0, 0], [0, 0, -1, 0, 0, 0, 0, 0, 1, 1, 1, -1, 2, -2, 1, 0, 0, 1, 0, 0, 0, 2, 2, 1, 0, 0, 0, 2, 0, 0], [0, 0, 1, 0, 0, 0, 3, 0, 0, 1, 0, 1, 0, 3, -1, 2, 0, -1, 0, 0, 0, -1, -1, 0, 0, 0, 1, -1, 0, 0]]}], \"label\": \"Tarn-et-Garonne\", \"method\": \"restyle\"}, {\"args\": [{\"y\": [[3, 5, 3, 2, 4, 5, 5, 12, 3, 6, 3, 5, 6, 4, 5, 3, 0, 3, 3, 2, 2, 3, 2, 3, 4, 3, 1, 6, 3, 3], [0, 1, 1, 1, 0, 1, 3, 3, 9, 2, 2, 3, 1, 0, 6, 8, 0, 6, 1, 4, 1, 9, 3, 5, 6, 1, 0, 3, 2, 3], [3, 4, 2, 1, 4, 4, 2, 9, -6, 4, 1, 2, 5, 4, -1, -5, 0, -3, 2, -2, 1, -6, -1, -2, -2, 2, 1, 3, 1, 0]]}], \"label\": \"Var\", \"method\": \"restyle\"}, {\"args\": [{\"y\": [[0, 2, 1, 4, 6, 0, 3, 2, 1, 3, 1, 0, 3, 0, 2, 0, 1, 0, 0, 1, 1, 0, 0, 0, 1, 0, 1, 0, 1, 1], [0, 1, 0, 1, 1, 0, 1, 1, 2, 1, 0, 0, 2, 2, 1, 1, 3, 1, 1, 0, 3, 0, 1, 0, 0, 0, 1, 1, 3, 1], [0, 1, 1, 3, 5, 0, 2, 1, -1, 2, 1, 0, 1, -2, 1, -1, -2, -1, -1, 1, -2, 0, -1, 0, 1, 0, 0, -1, -2, 0]]}], \"label\": \"Vaucluse\", \"method\": \"restyle\"}, {\"args\": [{\"y\": [[0, 3, 2, 1, 1, 5, 1, 0, 3, 1, 2, 3, 2, 2, 0, 0, 2, 0, 0, 2, 0, 0, 1, 0, 0, 0, 0, 0, 0, 0], [0, 2, 0, -1, 0, 2, 1, 0, 2, 0, 0, 2, 1, 1, 0, 1, 0, 2, 1, 1, 1, 4, 2, -1, 1, 1, 0, 0, 1, 0], [0, 1, 2, 2, 1, 3, 0, 0, 1, 1, 2, 1, 1, 1, 0, -1, 2, -2, -1, 1, -1, -4, -1, 1, -1, -1, 0, 0, -1, 0]]}], \"label\": \"Vend\\u00e9e\", \"method\": \"restyle\"}, {\"args\": [{\"y\": [[0, 2, 3, 2, 6, 0, 4, 0, 5, 1, 7, 6, 1, 1, 4, 0, 0, 2, 0, 2, 2, 1, 0, 1, 1, 1, 1, 0, 3, 3, 1, 0, 1, 2, 3, 0, 0, 2, 0, 1, 1, 0, 1, 0, 0, 0, 1, 0, 0, 0, 0, 0, 0, 0, 0, 0, 0, 0, 0, 0], [1, 1, 3, 0, 0, 1, 2, 0, 5, -2, 1, 0, 2, 1, -4, 0, 1, 0, 0, 0, 2, 1, 0, -2, -6, 1, 0, 0, 6, 4, 2, 0, 3, 1, 2, 7, -6, -3, 0, 1, 1, 0, 2, 4, 2, 0, 3, 1, 3, 2, 3, 0, 0, 0, 1, 1, 0, 0, 0, 0], [-1, 1, 0, 2, 6, -1, 2, 0, 0, 3, 6, 6, -1, 0, 8, 0, -1, 2, 0, 2, 0, 0, 0, 3, 7, 0, 1, 0, -3, -1, -1, 0, -2, 1, 1, -7, 6, 5, 0, 0, 0, 0, -1, -4, -2, 0, -2, -1, -3, -2, -3, 0, 0, 0, -1, -1, 0, 0, 0, 0]]}], \"label\": \"Vienne\", \"method\": \"restyle\"}, {\"args\": [{\"y\": [[2, 2, 0, 0, 1, 6, 1, 0, 2, 2, 1, 1, 1, 0, 3, 0, 2, 0, 2, 1, 0, 0, 0, 0, 0, 0, 0, 0, 0, 0], [1, 0, 1, 0, -2, 0, 1, 0, 0, 0, 1, -2, 1, 0, 4, 0, 1, 7, -3, 1, 0, 4, 0, 1, 2, 0, 0, 1, 0, 0], [1, 2, -1, 0, 3, 6, 0, 0, 2, 2, 0, 3, 0, 0, -1, 0, 1, -7, 5, 0, 0, -4, 0, -1, -2, 0, 0, -1, 0, 0]]}], \"label\": \"Haute-Vienne\", \"method\": \"restyle\"}, {\"args\": [{\"y\": [[5, 5, 6, 3, 6, 1, 6, 6, 3, 10, 6, 4, 2, 5, 3, 4, 1, 2, 0, 0, 3, 1, 1, 1, 4, 0, 2, 1, 1, 1], [4, -2, 7, -1, -1, 2, 5, 4, -1, 1, 9, 4, 4, 7, 4, 1, 6, 1, 4, 1, 1, 1, 2, 1, 5, 3, 3, 3, 2, 1], [1, 7, -1, 4, 7, -1, 1, 2, 4, 9, -3, 0, -2, -2, -1, 3, -5, 1, -4, -1, 2, 0, -1, 0, -1, -3, -1, -2, -1, 0]]}], \"label\": \"Vosges\", \"method\": \"restyle\"}, {\"args\": [{\"y\": [[0, 2, 1, 0, 0, 2, 2, 2, 4, 1, 2, 0, 0, 1, 2, 0, 0, 3, 0, 0, 0, 1, 0, 1, 0, 0, 0, 1, 0, 0], [-1, -1, 0, 0, 0, 1, 0, 1, -1, 3, 1, 1, 1, 1, 1, 0, 1, 1, 0, 0, 0, 0, 2, 1, 0, 0, 0, 0, 0, 0], [1, 3, 1, 0, 0, 1, 2, 1, 5, -2, 1, -1, -1, 0, 1, 0, -1, 2, 0, 0, 0, 1, -2, 0, 0, 0, 0, 1, 0, 0]]}], \"label\": \"Yonne\", \"method\": \"restyle\"}, {\"args\": [{\"y\": [[1, 3, 2, 2, 3, 4, 3, 6, 1, 8, 2, 1, 3, 1, 3, 1, 0, 1, 0, 1, 2, 0, 0, 2, 0, 1, 1, 0, 1, 1], [-1, -2, -1, 2, -1, -2, 3, 3, 0, 6, 5, 3, 1, 2, 2, 1, 2, 5, 2, 1, 0, 1, 5, 1, 3, 1, 1, 0, 2, 1], [2, 5, 3, 0, 4, 6, 0, 3, 1, 2, -3, -2, 2, -1, 1, 0, -2, -4, -2, 0, 2, -1, -5, 1, -3, 0, 0, 0, -1, 0]]}], \"label\": \"Territoire de Belfort\", \"method\": \"restyle\"}, {\"args\": [{\"y\": [[6, 16, 17, 11, 31, 7, 14, 26, 14, 27, 13, 10, 15, 11, 15, 19, 14, 13, 12, 4, 5, 9, 5, 13, 6, 5, 1, 9, 6, 6], [2, 7, 3, 4, 5, 5, 1, 6, 3, 16, 11, 3, 9, 3, 6, 12, 12, 4, 9, 6, 2, 15, 36, 13, 19, 10, 2, 4, 11, 6], [4, 9, 14, 7, 26, 2, 13, 20, 11, 11, 2, 7, 6, 8, 9, 7, 2, 9, 3, -2, 3, -6, -31, 0, -13, -5, -1, 5, -5, 0]]}], \"label\": \"Essonne\", \"method\": \"restyle\"}, {\"args\": [{\"y\": [[37, 37, 44, 29, 40, 36, 24, 44, 43, 31, 49, 27, 35, 38, 43, 23, 27, 36, 23, 23, 18, 15, 19, 21, 11, 13, 9, 10, 14, 14], [4, 9, 10, 16, 16, 18, 7, 13, 12, 26, 28, 19, 11, 23, 31, 7, 44, 41, 16, 13, 33, 28, 26, 31, 24, 16, 8, 17, 33, 14], [33, 28, 34, 13, 24, 18, 17, 31, 31, 5, 21, 8, 24, 15, 12, 16, -17, -5, 7, 10, -15, -13, -7, -10, -13, -3, 1, -7, -19, 0]]}], \"label\": \"Hauts-de-Seine\", \"method\": \"restyle\"}, {\"args\": [{\"y\": [[21, 6, 21, 15, 16, 3, 18, 32, 42, 13, 22, 12, 10, 14, 33, 17, 16, 21, 14, 9, 14, 14, 22, 24, 9, 11, 7, 7, 8, 8], [6, 5, 2, 2, 5, -1, 3, 5, 4, 20, 19, 8, 9, 8, 27, 16, 11, 17, 21, 10, 12, 19, 26, 18, 22, 18, 6, 7, 18, 8], [15, 1, 19, 13, 11, 4, 15, 27, 38, -7, 3, 4, 1, 6, 6, 1, 5, 4, -7, -1, 2, -5, -4, 6, -13, -7, 1, 0, -10, 0]]}], \"label\": \"Seine-Saint-Denis\", \"method\": \"restyle\"}, {\"args\": [{\"y\": [[31, 35, 14, 12, 25, 13, 14, 23, 58, 33, 48, 20, 19, 26, 41, 48, 22, 21, 13, 21, 20, 37, 23, 26, 20, 17, 7, 14, 10, 10], [9, 15, 7, 6, 9, 10, 5, 20, 6, 23, 16, 12, 20, 24, 31, 15, 19, 31, 25, 20, 14, 17, 22, 43, 13, 15, 10, 13, 21, 10], [22, 20, 7, 6, 16, 3, 9, 3, 52, 10, 32, 8, -1, 2, 10, 33, 3, -10, -12, 1, 6, 20, 1, -17, 7, 2, -3, 1, -11, 0]]}], \"label\": \"Val-de-Marne\", \"method\": \"restyle\"}, {\"args\": [{\"y\": [[18, 11, 5, 13, 7, 11, 13, 14, 7, 13, 13, 12, 6, 12, 17, 10, 26, 8, 13, 10, 4, 7, 6, 5, 4, 5, 4, 6, 4, 4], [2, -1, 4, 10, 5, -5, 7, 6, 2, 9, 16, 3, 0, 13, 9, 16, 5, 17, 17, 6, 5, 5, 6, 12, 9, 10, 11, 14, 9, 4], [16, 12, 1, 3, 2, 16, 6, 8, 5, 4, -3, 9, 6, -1, 8, -6, 21, -9, -4, 4, -1, 2, 0, -7, -5, -5, -7, -8, -5, 0]]}], \"label\": \"Val-d'Oise\", \"method\": \"restyle\"}, {\"args\": [{\"y\": [[0, 0, 3, 7, 0, 0, 4, 2, 2, 4, 1, 2, 1, 0, 0, 1, 2, 3, 0, 0, 0, 0, 1, 0, 2, 0, 0, 0, 1, 1], [0, 0, 2, 1, 0, 1, 5, 1, 2, 0, 0, 2, 0, 0, 1, 2, 1, 1, -1, 1, 1, 0, 2, 0, 0, 2, 0, 1, 2, 1], [0, 0, 1, 6, 0, -1, -1, 1, 0, 4, 1, 0, 1, 0, -1, -1, 1, 2, 1, -1, -1, 0, -1, 0, 2, -2, 0, -1, -1, 0]]}], \"label\": \"Guadeloupe\", \"method\": \"restyle\"}, {\"args\": [{\"y\": [[2, 2, 4, 3, 0, 2, 0, 3, 1, 1, 0, 2, 3, 0, 0, 1, 0, 0, 0, 0, 1, 0, 0, 1, 0, 0, 0, 0, 0, 0], [2, 0, 0, -1, 1, 1, 0, 0, 0, 0, 1, 3, 0, 1, 1, 1, 2, 1, 1, 0, 0, 0, 0, 0, 0, 3, 1, 3, 0, 0], [0, 2, 4, 4, -1, 1, 0, 3, 1, 1, -1, -1, 3, -1, -1, 0, -2, -1, -1, 0, 1, 0, 0, 1, 0, -3, -1, -3, 0, 0]]}], \"label\": \"Martinique\", \"method\": \"restyle\"}, {\"args\": [{\"y\": [[0, 0, 0, 0, 0, 0, 0, 0, 0, 0, 1, 0, 0, 0, 0, 0, 0, 0, 0, 0, 0, 0, 0, 1, 1, 0, 0, 0, 0, 0], [0, 0, 0, 0, 0, 0, 0, 0, 0, 0, 0, 0, 0, 0, 0, 0, 0, 0, 0, 0, 0, 0, 1, 0, 0, 0, 0, 0, 1, 0], [0, 0, 0, 0, 0, 0, 0, 0, 0, 0, 1, 0, 0, 0, 0, 0, 0, 0, 0, 0, 0, 0, -1, 1, 1, 0, 0, 0, -1, 0]]}], \"label\": \"Guyane\", \"method\": \"restyle\"}, {\"args\": [{\"y\": [[1, 0, 0, 0, 1, 1, 1, 2, 0, 0, 0, 2, 0, 0, 0, 0, 1, 0, 0, 0, 0, 0, 0, 1, 0, 0, 0, 0, 0, 0], [0, 0, 0, 1, 0, 0, 1, 0, 3, 1, 0, 0, 0, 0, 0, 0, 2, 0, 0, 0, 0, 0, 0, 0, 1, 1, 0, 0, 0, 0], [1, 0, 0, -1, 1, 1, 0, 2, -3, -1, 0, 2, 0, 0, 0, 0, -1, 0, 0, 0, 0, 0, 0, 1, -1, -1, 0, 0, 0, 0]]}], \"label\": \"La R\\u00e9union\", \"method\": \"restyle\"}, {\"args\": [{\"y\": [[0, 0, 0, 0, 0, 0, 0, 0, 0, 3, 0, 0, 0, 0, 0, 1, 0, 0, 0, 0, 0, 0, 1, 2, 0, 0, 0, 0, 0, 0], [0, 0, 0, 0, 0, 0, 0, 0, 0, 0, 0, 0, 0, 0, 0, 0, 0, 0, 1, 0, 0, 0, 0, 0, 0, 1, 1, 0, 0, 0], [0, 0, 0, 0, 0, 0, 0, 0, 0, 3, 0, 0, 0, 0, 0, 1, 0, 0, -1, 0, 0, 0, 1, 2, 0, -1, -1, 0, 0, 0]]}], \"label\": \"Mayotte\", \"method\": \"restyle\"}], \"direction\": \"down\", \"pad\": {\"r\": 1, \"t\": 1}, \"showactive\": true, \"x\": 0.05, \"xanchor\": \"left\", \"y\": 1.22, \"yanchor\": \"top\"}], \"width\": 1400, \"xaxis\": {\"anchor\": \"y\", \"domain\": [0.0, 1.0]}, \"xaxis2\": {\"anchor\": \"y2\", \"domain\": [0.0, 1.0]}, \"yaxis\": {\"anchor\": \"x\", \"domain\": [0.575, 1.0]}, \"yaxis2\": {\"anchor\": \"x2\", \"domain\": [0.0, 0.425]}},\n",
              "                        {\"responsive\": true}\n",
              "                    ).then(function(){\n",
              "                            \n",
              "var gd = document.getElementById('cdadd13d-8ca9-44bd-88e0-7987745850b4');\n",
              "var x = new MutationObserver(function (mutations, observer) {{\n",
              "        var display = window.getComputedStyle(gd).display;\n",
              "        if (!display || display === 'none') {{\n",
              "            console.log([gd, 'removed!']);\n",
              "            Plotly.purge(gd);\n",
              "            observer.disconnect();\n",
              "        }}\n",
              "}});\n",
              "\n",
              "// Listen for the removal of the full notebook cells\n",
              "var notebookContainer = gd.closest('#notebook-container');\n",
              "if (notebookContainer) {{\n",
              "    x.observe(notebookContainer, {childList: true});\n",
              "}}\n",
              "\n",
              "// Listen for the clearing of the current output cell\n",
              "var outputEl = gd.closest('.output');\n",
              "if (outputEl) {{\n",
              "    x.observe(outputEl, {childList: true});\n",
              "}}\n",
              "\n",
              "                        })\n",
              "                };\n",
              "                \n",
              "            </script>\n",
              "        </div>\n",
              "</body>\n",
              "</html>"
            ]
          },
          "metadata": {
            "tags": []
          }
        }
      ]
    }
  ]
}